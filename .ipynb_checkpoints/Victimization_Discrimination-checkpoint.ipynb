{
 "cells": [
  {
   "cell_type": "markdown",
   "metadata": {},
   "source": [
    "<h1>Exploration on Victimization and Discrimation that transgender group reported<h3> These questions are drawn from Q162-168 in 2016-2018 TransPop study."
   ]
  },
  {
   "cell_type": "code",
   "execution_count": 65,
   "metadata": {},
   "outputs": [],
   "source": [
    "#packages\n",
    "import pandas as pd\n",
    "import numpy as np\n",
    "import os\n",
    "import matplotlib.pyplot as plt\n",
    "import seaborn as sns"
   ]
  },
  {
   "cell_type": "code",
   "execution_count": 66,
   "metadata": {},
   "outputs": [
    {
     "data": {
      "text/html": [
       "<div>\n",
       "<style scoped>\n",
       "    .dataframe tbody tr th:only-of-type {\n",
       "        vertical-align: middle;\n",
       "    }\n",
       "\n",
       "    .dataframe tbody tr th {\n",
       "        vertical-align: top;\n",
       "    }\n",
       "\n",
       "    .dataframe thead th {\n",
       "        text-align: right;\n",
       "    }\n",
       "</style>\n",
       "<table border=\"1\" class=\"dataframe\">\n",
       "  <thead>\n",
       "    <tr style=\"text-align: right;\">\n",
       "      <th></th>\n",
       "      <th>Unnamed: 0</th>\n",
       "      <th>STUDYID</th>\n",
       "      <th>WEIGHT</th>\n",
       "      <th>SURVEYCOMPLETED</th>\n",
       "      <th>GRESPONDENT_DATE</th>\n",
       "      <th>GCENREG</th>\n",
       "      <th>AGE</th>\n",
       "      <th>RACE</th>\n",
       "      <th>RACE_RECODE</th>\n",
       "      <th>RACE_RECODE_CAT5</th>\n",
       "      <th>...</th>\n",
       "      <th>ACE_SEP</th>\n",
       "      <th>ACE_INC</th>\n",
       "      <th>ACE_EMO_I</th>\n",
       "      <th>ACE_PHY_I</th>\n",
       "      <th>ACE_SEX_I</th>\n",
       "      <th>ACE_IPV_I</th>\n",
       "      <th>ACE_SUB_I</th>\n",
       "      <th>ACE_MEN_I</th>\n",
       "      <th>ACE_SEP_I</th>\n",
       "      <th>ACE_INC_I</th>\n",
       "    </tr>\n",
       "  </thead>\n",
       "  <tbody>\n",
       "    <tr>\n",
       "      <th>0</th>\n",
       "      <td>0</td>\n",
       "      <td>151768927</td>\n",
       "      <td>0.986143</td>\n",
       "      <td>0</td>\n",
       "      <td>26-APR-2016</td>\n",
       "      <td>1</td>\n",
       "      <td>65</td>\n",
       "      <td>6</td>\n",
       "      <td>1</td>\n",
       "      <td>1</td>\n",
       "      <td>...</td>\n",
       "      <td>0</td>\n",
       "      <td>0</td>\n",
       "      <td>1</td>\n",
       "      <td>0</td>\n",
       "      <td>0</td>\n",
       "      <td>0</td>\n",
       "      <td>0</td>\n",
       "      <td>0</td>\n",
       "      <td>0</td>\n",
       "      <td>0</td>\n",
       "    </tr>\n",
       "    <tr>\n",
       "      <th>1</th>\n",
       "      <td>1</td>\n",
       "      <td>152357242</td>\n",
       "      <td>0.379683</td>\n",
       "      <td>0</td>\n",
       "      <td>07-APR-2016</td>\n",
       "      <td>3</td>\n",
       "      <td>38</td>\n",
       "      <td>6</td>\n",
       "      <td>1</td>\n",
       "      <td>1</td>\n",
       "      <td>...</td>\n",
       "      <td>0</td>\n",
       "      <td>0</td>\n",
       "      <td>0</td>\n",
       "      <td>0</td>\n",
       "      <td>0</td>\n",
       "      <td>0</td>\n",
       "      <td>0</td>\n",
       "      <td>1</td>\n",
       "      <td>0</td>\n",
       "      <td>0</td>\n",
       "    </tr>\n",
       "    <tr>\n",
       "      <th>2</th>\n",
       "      <td>2</td>\n",
       "      <td>152444055</td>\n",
       "      <td>0.705381</td>\n",
       "      <td>0</td>\n",
       "      <td>01-MAY-2016</td>\n",
       "      <td>3</td>\n",
       "      <td>25</td>\n",
       "      <td>6</td>\n",
       "      <td>1</td>\n",
       "      <td>1</td>\n",
       "      <td>...</td>\n",
       "      <td>0</td>\n",
       "      <td>0</td>\n",
       "      <td>0</td>\n",
       "      <td>0</td>\n",
       "      <td>0</td>\n",
       "      <td>0</td>\n",
       "      <td>0</td>\n",
       "      <td>1</td>\n",
       "      <td>0</td>\n",
       "      <td>0</td>\n",
       "    </tr>\n",
       "    <tr>\n",
       "      <th>3</th>\n",
       "      <td>3</td>\n",
       "      <td>152525272</td>\n",
       "      <td>1.595398</td>\n",
       "      <td>0</td>\n",
       "      <td>20-APR-2016</td>\n",
       "      <td>4</td>\n",
       "      <td>18</td>\n",
       "      <td>6</td>\n",
       "      <td>1</td>\n",
       "      <td>1</td>\n",
       "      <td>...</td>\n",
       "      <td>1</td>\n",
       "      <td>1</td>\n",
       "      <td>1</td>\n",
       "      <td>0</td>\n",
       "      <td>0</td>\n",
       "      <td>1</td>\n",
       "      <td>1</td>\n",
       "      <td>1</td>\n",
       "      <td>1</td>\n",
       "      <td>1</td>\n",
       "    </tr>\n",
       "    <tr>\n",
       "      <th>4</th>\n",
       "      <td>4</td>\n",
       "      <td>152894493</td>\n",
       "      <td>1.870422</td>\n",
       "      <td>0</td>\n",
       "      <td>05-MAY-2016</td>\n",
       "      <td>2</td>\n",
       "      <td>30</td>\n",
       "      <td>8</td>\n",
       "      <td>3</td>\n",
       "      <td>3</td>\n",
       "      <td>...</td>\n",
       "      <td>0</td>\n",
       "      <td>0</td>\n",
       "      <td>1</td>\n",
       "      <td>0</td>\n",
       "      <td>0</td>\n",
       "      <td>0</td>\n",
       "      <td>0</td>\n",
       "      <td>0</td>\n",
       "      <td>0</td>\n",
       "      <td>0</td>\n",
       "    </tr>\n",
       "  </tbody>\n",
       "</table>\n",
       "<p>5 rows × 567 columns</p>\n",
       "</div>"
      ],
      "text/plain": [
       "   Unnamed: 0    STUDYID    WEIGHT  SURVEYCOMPLETED GRESPONDENT_DATE GCENREG  \\\n",
       "0           0  151768927  0.986143                0      26-APR-2016       1   \n",
       "1           1  152357242  0.379683                0      07-APR-2016       3   \n",
       "2           2  152444055  0.705381                0      01-MAY-2016       3   \n",
       "3           3  152525272  1.595398                0      20-APR-2016       4   \n",
       "4           4  152894493  1.870422                0      05-MAY-2016       2   \n",
       "\n",
       "   AGE  RACE  RACE_RECODE  RACE_RECODE_CAT5  ... ACE_SEP ACE_INC  ACE_EMO_I  \\\n",
       "0   65     6            1                 1  ...       0       0          1   \n",
       "1   38     6            1                 1  ...       0       0          0   \n",
       "2   25     6            1                 1  ...       0       0          0   \n",
       "3   18     6            1                 1  ...       1       1          1   \n",
       "4   30     8            3                 3  ...       0       0          1   \n",
       "\n",
       "   ACE_PHY_I ACE_SEX_I  ACE_IPV_I ACE_SUB_I  ACE_MEN_I ACE_SEP_I ACE_INC_I  \n",
       "0          0         0          0         0          0         0         0  \n",
       "1          0         0          0         0          1         0         0  \n",
       "2          0         0          0         0          1         0         0  \n",
       "3          0         0          1         1          1         1         1  \n",
       "4          0         0          0         0          0         0         0  \n",
       "\n",
       "[5 rows x 567 columns]"
      ]
     },
     "execution_count": 66,
     "metadata": {},
     "output_type": "execute_result"
    }
   ],
   "source": [
    "#trans data\n",
    "transpop = pd.read_csv('data/transpop.csv')\n",
    "transpop.head()"
   ]
  },
  {
   "cell_type": "code",
   "execution_count": 67,
   "metadata": {},
   "outputs": [],
   "source": [
    "total_col = ['Q162A','Q162B','Q162C','Q162D','Q162E','Q162F','Q163_1','Q163_2','Q163_3','Q163_4','Q163_5',\n",
    "              'Q163_6','Q163_7','Q163_8','Q163_9','Q163_10','Q164','Q165','Q166_1','Q166_2','Q166_3','Q166_4','Q166_5',\n",
    "               'Q166_6','Q166_7','Q166_8','Q166_9','Q166_10','Q167','Q168_1','Q168_2','Q168_3','Q168_4','Q168_5','Q168_6',\n",
    "               'Q168_7','Q168_8','Q168_9','Q168_10'\n",
    "              ]"
   ]
  },
  {
   "cell_type": "markdown",
   "metadata": {},
   "source": [
    "<H3>I. Victimization, Discrimination, and Attribution"
   ]
  },
  {
   "cell_type": "markdown",
   "metadata": {},
   "source": [
    "162_A: Since age of 18, how often have you of the following happened to you? You were ***hit, beaten, physically attacked, or sexually***<br>\n",
    "162_B:Since age of 18, how often have you of the following happened to you? You were ***robbed, or your property was stolen, vandalized, or purposely damaged***<br>\n",
    "162_C: Since the age of 18, how often have any of the following happened to you? Someone tried to ***attack you, rob you, or damage your property, but they didn't succeed***<br>\n",
    "162_D: Since the age of 18, how often have any of the following happened to you? Someone ***threatened you with violence***<br>\n",
    "162_E: Since the age of 18, how often have any of the following happened to you? Someone ***verbally insulted or abused you***<br>\n",
    "162_F: Since the age of 18, how often have any of the following happened to you? Someone ***threw an object at you***<br>\n",
    "\n",
    "1- Never<br>\n",
    "2- Once<br>\n",
    "3- Twice<br>\n",
    "4- Three or more times<br>"
   ]
  },
  {
   "cell_type": "code",
   "execution_count": 68,
   "metadata": {},
   "outputs": [],
   "source": [
    "trans_162 = transpop[['Q162A','Q162B','Q162C','Q162D','Q162E','Q162F']]"
   ]
  },
  {
   "cell_type": "code",
   "execution_count": 69,
   "metadata": {},
   "outputs": [
    {
     "data": {
      "image/png": "[encoded data removed]",
      "text/plain": [
       "<Figure size 720x576 with 6 Axes>"
      ]
     },
     "metadata": {
      "needs_background": "light"
     },
     "output_type": "display_data"
    }
   ],
   "source": [
    "colors = ['blue', 'orange', 'green', 'red','pink','purple']\n",
    "label_names = {1:'Never',2:'Once',3:'Twice',4:'Three or more times'}\n",
    "total = []\n",
    "question_name = ['Physical Damaged','Property Damaged','Not Succeed','Threaten','Insult','Hit by Subject']\n",
    "questions=dict(zip(list(trans_162.columns),question_name))\n",
    "fig, axs = plt.subplots(3, 2, figsize=(10, 8))\n",
    "axs = axs.flatten()\n",
    "\n",
    "# Loop through each question column\n",
    "for i, col in enumerate(trans_162.columns):\n",
    "    counting = pd.to_numeric(trans_162[col], errors='coerce').astype('float').value_counts()\n",
    "    total.append(dict(counting))\n",
    "    # Plot a histogram of the responses on the appropriate subplot\n",
    "    axs[i].bar(counting.index, counting.values, color=colors[i % len(colors)])\n",
    "    # Set the title of the subplot\n",
    "    axs[i].set_title(questions[col])\n",
    "    axs[i].set_xlabel('Response')\n",
    "    axs[i].set_ylabel('Frequency')\n",
    "\n",
    "# Add overall title and axis labels\n",
    "fig.suptitle('Distribution of Responses for All Questions')\n",
    "fig.text(0.5, 0.04, 'Response', ha='center')\n",
    "fig.text(0.04, 0.5, 'Frequency', va='center', rotation='vertical')\n",
    "\n",
    "# Show the plot\n",
    "plt.show()"
   ]
  },
  {
   "cell_type": "code",
   "execution_count": 70,
   "metadata": {},
   "outputs": [
    {
     "data": {
      "text/plain": [
       "{1.0: 814, 4.0: 411, 2.0: 250, 3.0: 148}"
      ]
     },
     "execution_count": 70,
     "metadata": {},
     "output_type": "execute_result"
    }
   ],
   "source": [
    "#get total number of each category\n",
    "sum_dict = {}\n",
    "for d in total:\n",
    "    for k, v in d.items():\n",
    "        if k in sum_dict:\n",
    "            sum_dict[k] += v\n",
    "        else:\n",
    "            sum_dict[k] = v\n",
    "sum_dict"
   ]
  },
  {
   "cell_type": "code",
   "execution_count": 72,
   "metadata": {},
   "outputs": [
    {
     "data": {
      "image/png": "[encoded data removed]",
      "text/plain": [
       "<Figure size 432x288 with 1 Axes>"
      ]
     },
     "metadata": {
      "needs_background": "light"
     },
     "output_type": "display_data"
    }
   ],
   "source": [
    "sns.barplot(x=list(sum_dict.keys()), y=list(sum_dict.values()))\n",
    "\n",
    "plt.xlabel('Response')\n",
    "plt.ylabel('Frequency')\n",
    "plt.title('Total Number of Each Category')\n",
    "plt.show()\n"
   ]
  },
  {
   "cell_type": "markdown",
   "metadata": {},
   "source": [
    "Attribution<br>\n",
    "<h>1. Age<br>\n",
    "   2. Sex(Being Female or Male)<br>3. Being Transgender<br> 4. Gender Expression or Appearance <br> 5. Race<br> 6. Income level or education<br> 7. Sexual orientation<br> 8. Physical appearance (e.g., weight, height)<br> 9. Religion/spirituality<br> 10. Disability<br>"
   ]
  },
  {
   "cell_type": "code",
   "execution_count": 73,
   "metadata": {},
   "outputs": [
    {
     "data": {
      "text/html": [
       "<div>\n",
       "<style scoped>\n",
       "    .dataframe tbody tr th:only-of-type {\n",
       "        vertical-align: middle;\n",
       "    }\n",
       "\n",
       "    .dataframe tbody tr th {\n",
       "        vertical-align: top;\n",
       "    }\n",
       "\n",
       "    .dataframe thead th {\n",
       "        text-align: right;\n",
       "    }\n",
       "</style>\n",
       "<table border=\"1\" class=\"dataframe\">\n",
       "  <thead>\n",
       "    <tr style=\"text-align: right;\">\n",
       "      <th></th>\n",
       "      <th>Q163_1</th>\n",
       "      <th>Q163_2</th>\n",
       "      <th>Q163_3</th>\n",
       "      <th>Q163_4</th>\n",
       "      <th>Q163_5</th>\n",
       "      <th>Q163_6</th>\n",
       "      <th>Q163_7</th>\n",
       "      <th>Q163_8</th>\n",
       "      <th>Q163_9</th>\n",
       "      <th>Q163_10</th>\n",
       "    </tr>\n",
       "  </thead>\n",
       "  <tbody>\n",
       "    <tr>\n",
       "      <th>0</th>\n",
       "      <td></td>\n",
       "      <td></td>\n",
       "      <td></td>\n",
       "      <td></td>\n",
       "      <td></td>\n",
       "      <td></td>\n",
       "      <td></td>\n",
       "      <td></td>\n",
       "      <td></td>\n",
       "      <td></td>\n",
       "    </tr>\n",
       "    <tr>\n",
       "      <th>1</th>\n",
       "      <td></td>\n",
       "      <td></td>\n",
       "      <td></td>\n",
       "      <td>4</td>\n",
       "      <td></td>\n",
       "      <td></td>\n",
       "      <td></td>\n",
       "      <td>8</td>\n",
       "      <td></td>\n",
       "      <td></td>\n",
       "    </tr>\n",
       "    <tr>\n",
       "      <th>2</th>\n",
       "      <td></td>\n",
       "      <td>2</td>\n",
       "      <td>3</td>\n",
       "      <td>4</td>\n",
       "      <td></td>\n",
       "      <td></td>\n",
       "      <td>7</td>\n",
       "      <td></td>\n",
       "      <td></td>\n",
       "      <td>10</td>\n",
       "    </tr>\n",
       "    <tr>\n",
       "      <th>3</th>\n",
       "      <td>7</td>\n",
       "      <td>7</td>\n",
       "      <td>7</td>\n",
       "      <td>7</td>\n",
       "      <td>7</td>\n",
       "      <td>7</td>\n",
       "      <td>97</td>\n",
       "      <td>97</td>\n",
       "      <td>97</td>\n",
       "      <td>97</td>\n",
       "    </tr>\n",
       "    <tr>\n",
       "      <th>4</th>\n",
       "      <td>1</td>\n",
       "      <td>2</td>\n",
       "      <td></td>\n",
       "      <td></td>\n",
       "      <td></td>\n",
       "      <td></td>\n",
       "      <td></td>\n",
       "      <td></td>\n",
       "      <td></td>\n",
       "      <td></td>\n",
       "    </tr>\n",
       "  </tbody>\n",
       "</table>\n",
       "</div>"
      ],
      "text/plain": [
       "  Q163_1 Q163_2 Q163_3 Q163_4 Q163_5 Q163_6 Q163_7 Q163_8 Q163_9 Q163_10\n",
       "0                                                                       \n",
       "1                           4                           8               \n",
       "2             2      3      4                    7                    10\n",
       "3      7      7      7      7      7      7     97     97     97      97\n",
       "4      1      2                                                         "
      ]
     },
     "execution_count": 73,
     "metadata": {},
     "output_type": "execute_result"
    }
   ],
   "source": [
    "trans_163 = transpop[['Q163_1','Q163_2','Q163_3','Q163_4','Q163_5',\n",
    "              'Q163_6','Q163_7','Q163_8','Q163_9','Q163_10']]\n",
    "trans_163.head()"
   ]
  },
  {
   "cell_type": "code",
   "execution_count": 74,
   "metadata": {},
   "outputs": [],
   "source": [
    "total = {}\n",
    "for col in trans_163.columns:\n",
    "    total[col]= sum(trans_163[col]!=' ')\n",
    "factors = ['Age','Sex','Transgender','Gender Expression or Appearance','Race','Income level','Sexual orientation','Physical appearance','Religion','Disability']"
   ]
  },
  {
   "cell_type": "code",
   "execution_count": 61,
   "metadata": {},
   "outputs": [
    {
     "data": {
      "image/png": "[encoded data removed]",
      "text/plain": [
       "<Figure size 432x288 with 1 Axes>"
      ]
     },
     "metadata": {
      "needs_background": "light"
     },
     "output_type": "display_data"
    }
   ],
   "source": [
    "sns.barplot(x=list(total.keys()), y=list(total.values()))\n",
    "\n",
    "plt.xlabel('Response')\n",
    "plt.ylabel('Frequency')\n",
    "plt.title('Reason of Being Attacked')\n",
    "plt.xticks(rotation=45)\n",
    "plt.gca().set_xticklabels(factors, rotation=45, ha='right')\n",
    "\n",
    "plt.show()"
   ]
  },
  {
   "cell_type": "markdown",
   "metadata": {},
   "source": [
    "<H3> II. Job Descrimination Attribution<H3>\n",
    "    "
   ]
  },
  {
   "cell_type": "markdown",
   "metadata": {},
   "source": [
    "Attribution<br>\n",
    "<h>1. Age<br>\n",
    "   2. Sex(Being Female or Male)<br>3. Being Transgender<br> 4. Gender Expression or Appearance <br> 5. Race<br> 6. Income level or education<br> 7. Sexual orientation<br> 8. Physical appearance (e.g., weight, height)<br> 9. Religion/spirituality<br> 10. Disability<br>"
   ]
  },
  {
   "cell_type": "code",
   "execution_count": 77,
   "metadata": {},
   "outputs": [],
   "source": [
    "job = transpop[['Q166_1','Q166_2','Q166_3','Q166_4','Q166_5',\n",
    "               'Q166_6','Q166_7','Q166_8','Q166_9','Q166_10']]"
   ]
  },
  {
   "cell_type": "code",
   "execution_count": 86,
   "metadata": {},
   "outputs": [],
   "source": [
    "total_job = {}\n",
    "for col in job.columns:\n",
    "    total_job[col]= sum(job[col]!=' ')"
   ]
  },
  {
   "cell_type": "code",
   "execution_count": 88,
   "metadata": {},
   "outputs": [
    {
     "data": {
      "image/png": "[encoded data removed]",
      "text/plain": [
       "<Figure size 432x288 with 1 Axes>"
      ]
     },
     "metadata": {
      "needs_background": "light"
     },
     "output_type": "display_data"
    }
   ],
   "source": [
    "sns.barplot(x=list(total_job.keys()), y=list(total_job.values()))\n",
    "\n",
    "plt.xlabel('Response')\n",
    "plt.ylabel('Frequency')\n",
    "plt.title('Job Discrimination Attribute')\n",
    "plt.xticks(rotation=45)\n",
    "plt.gca().set_xticklabels(factors, rotation=45, ha='right')\n",
    "\n",
    "plt.show()\n",
    "\n"
   ]
  },
  {
   "cell_type": "markdown",
   "metadata": {},
   "source": [
    "<h3>III. Housing Discrimination Attribution "
   ]
  },
  {
   "cell_type": "code",
   "execution_count": 90,
   "metadata": {},
   "outputs": [],
   "source": [
    "housing = transpop[['Q168_1','Q168_2','Q168_3','Q168_4','Q168_5','Q168_6',\n",
    "               'Q168_7','Q168_8','Q168_9','Q168_10']]"
   ]
  },
  {
   "cell_type": "code",
   "execution_count": 91,
   "metadata": {},
   "outputs": [],
   "source": [
    "total_housing = {}\n",
    "for col in housing.columns:\n",
    "    total_housing[col]= sum(housing[col]!=' ')\n"
   ]
  },
  {
   "cell_type": "code",
   "execution_count": 92,
   "metadata": {},
   "outputs": [
    {
     "data": {
      "image/png": "[encoded data removed]",
      "text/plain": [
       "<Figure size 432x288 with 1 Axes>"
      ]
     },
     "metadata": {
      "needs_background": "light"
     },
     "output_type": "display_data"
    }
   ],
   "source": [
    "sns.barplot(x=list(total_housing.keys()), y=list(total_housing.values()))\n",
    "\n",
    "plt.xlabel('Response')\n",
    "plt.ylabel('Frequency')\n",
    "plt.title('Housing Discrimination Attribution')\n",
    "plt.xticks(rotation=45)\n",
    "plt.gca().set_xticklabels(factors, rotation=45, ha='right')\n",
    "\n",
    "plt.show()"
   ]
  },
  {
   "cell_type": "code",
   "execution_count": null,
   "metadata": {},
   "outputs": [],
   "source": []
  }
 ],
 "metadata": {
  "kernelspec": {
   "display_name": "Python 3",
   "language": "python",
   "name": "python3"
  },
  "language_info": {
   "codemirror_mode": {
    "name": "ipython",
    "version": 3
   },
   "file_extension": ".py",
   "mimetype": "text/x-python",
   "name": "python",
   "nbconvert_exporter": "python",
   "pygments_lexer": "ipython3",
   "version": "3.8.5"
  }
 },
 "nbformat": 4,
 "nbformat_minor": 4
}
