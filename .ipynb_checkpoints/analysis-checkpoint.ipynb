{
 "cells": [
  {
   "cell_type": "code",
   "execution_count": 39,
   "id": "c1171998",
   "metadata": {},
   "outputs": [],
   "source": [
    "import pandas as pd\n",
    "import numpy as np\n",
    "import os\n",
    "\n",
    "import matplotlib.pyplot as plt\n",
    "import plotly.express as px"
   ]
  },
  {
   "cell_type": "markdown",
   "id": "f40dd33a",
   "metadata": {},
   "source": [
    "# TransPop"
   ]
  },
  {
   "cell_type": "code",
   "execution_count": 2,
   "id": "fb9e5834",
   "metadata": {},
   "outputs": [
    {
     "data": {
      "text/html": [
       "<div>\n",
       "<style scoped>\n",
       "    .dataframe tbody tr th:only-of-type {\n",
       "        vertical-align: middle;\n",
       "    }\n",
       "\n",
       "    .dataframe tbody tr th {\n",
       "        vertical-align: top;\n",
       "    }\n",
       "\n",
       "    .dataframe thead th {\n",
       "        text-align: right;\n",
       "    }\n",
       "</style>\n",
       "<table border=\"1\" class=\"dataframe\">\n",
       "  <thead>\n",
       "    <tr style=\"text-align: right;\">\n",
       "      <th></th>\n",
       "      <th>Unnamed: 0</th>\n",
       "      <th>STUDYID</th>\n",
       "      <th>WEIGHT</th>\n",
       "      <th>SURVEYCOMPLETED</th>\n",
       "      <th>GRESPONDENT_DATE</th>\n",
       "      <th>GCENREG</th>\n",
       "      <th>AGE</th>\n",
       "      <th>RACE</th>\n",
       "      <th>RACE_RECODE</th>\n",
       "      <th>RACE_RECODE_CAT5</th>\n",
       "      <th>...</th>\n",
       "      <th>ACE_SEP</th>\n",
       "      <th>ACE_INC</th>\n",
       "      <th>ACE_EMO_I</th>\n",
       "      <th>ACE_PHY_I</th>\n",
       "      <th>ACE_SEX_I</th>\n",
       "      <th>ACE_IPV_I</th>\n",
       "      <th>ACE_SUB_I</th>\n",
       "      <th>ACE_MEN_I</th>\n",
       "      <th>ACE_SEP_I</th>\n",
       "      <th>ACE_INC_I</th>\n",
       "    </tr>\n",
       "  </thead>\n",
       "  <tbody>\n",
       "    <tr>\n",
       "      <th>0</th>\n",
       "      <td>0</td>\n",
       "      <td>151768927</td>\n",
       "      <td>0.986143</td>\n",
       "      <td>0</td>\n",
       "      <td>26-APR-2016</td>\n",
       "      <td>1</td>\n",
       "      <td>65</td>\n",
       "      <td>6</td>\n",
       "      <td>1</td>\n",
       "      <td>1</td>\n",
       "      <td>...</td>\n",
       "      <td>0</td>\n",
       "      <td>0</td>\n",
       "      <td>1</td>\n",
       "      <td>0</td>\n",
       "      <td>0</td>\n",
       "      <td>0</td>\n",
       "      <td>0</td>\n",
       "      <td>0</td>\n",
       "      <td>0</td>\n",
       "      <td>0</td>\n",
       "    </tr>\n",
       "    <tr>\n",
       "      <th>1</th>\n",
       "      <td>1</td>\n",
       "      <td>152357242</td>\n",
       "      <td>0.379683</td>\n",
       "      <td>0</td>\n",
       "      <td>07-APR-2016</td>\n",
       "      <td>3</td>\n",
       "      <td>38</td>\n",
       "      <td>6</td>\n",
       "      <td>1</td>\n",
       "      <td>1</td>\n",
       "      <td>...</td>\n",
       "      <td>0</td>\n",
       "      <td>0</td>\n",
       "      <td>0</td>\n",
       "      <td>0</td>\n",
       "      <td>0</td>\n",
       "      <td>0</td>\n",
       "      <td>0</td>\n",
       "      <td>1</td>\n",
       "      <td>0</td>\n",
       "      <td>0</td>\n",
       "    </tr>\n",
       "    <tr>\n",
       "      <th>2</th>\n",
       "      <td>2</td>\n",
       "      <td>152444055</td>\n",
       "      <td>0.705381</td>\n",
       "      <td>0</td>\n",
       "      <td>01-MAY-2016</td>\n",
       "      <td>3</td>\n",
       "      <td>25</td>\n",
       "      <td>6</td>\n",
       "      <td>1</td>\n",
       "      <td>1</td>\n",
       "      <td>...</td>\n",
       "      <td>0</td>\n",
       "      <td>0</td>\n",
       "      <td>0</td>\n",
       "      <td>0</td>\n",
       "      <td>0</td>\n",
       "      <td>0</td>\n",
       "      <td>0</td>\n",
       "      <td>1</td>\n",
       "      <td>0</td>\n",
       "      <td>0</td>\n",
       "    </tr>\n",
       "    <tr>\n",
       "      <th>3</th>\n",
       "      <td>3</td>\n",
       "      <td>152525272</td>\n",
       "      <td>1.595398</td>\n",
       "      <td>0</td>\n",
       "      <td>20-APR-2016</td>\n",
       "      <td>4</td>\n",
       "      <td>18</td>\n",
       "      <td>6</td>\n",
       "      <td>1</td>\n",
       "      <td>1</td>\n",
       "      <td>...</td>\n",
       "      <td>1</td>\n",
       "      <td>1</td>\n",
       "      <td>1</td>\n",
       "      <td>0</td>\n",
       "      <td>0</td>\n",
       "      <td>1</td>\n",
       "      <td>1</td>\n",
       "      <td>1</td>\n",
       "      <td>1</td>\n",
       "      <td>1</td>\n",
       "    </tr>\n",
       "    <tr>\n",
       "      <th>4</th>\n",
       "      <td>4</td>\n",
       "      <td>152894493</td>\n",
       "      <td>1.870422</td>\n",
       "      <td>0</td>\n",
       "      <td>05-MAY-2016</td>\n",
       "      <td>2</td>\n",
       "      <td>30</td>\n",
       "      <td>8</td>\n",
       "      <td>3</td>\n",
       "      <td>3</td>\n",
       "      <td>...</td>\n",
       "      <td>0</td>\n",
       "      <td>0</td>\n",
       "      <td>1</td>\n",
       "      <td>0</td>\n",
       "      <td>0</td>\n",
       "      <td>0</td>\n",
       "      <td>0</td>\n",
       "      <td>0</td>\n",
       "      <td>0</td>\n",
       "      <td>0</td>\n",
       "    </tr>\n",
       "    <tr>\n",
       "      <th>...</th>\n",
       "      <td>...</td>\n",
       "      <td>...</td>\n",
       "      <td>...</td>\n",
       "      <td>...</td>\n",
       "      <td>...</td>\n",
       "      <td>...</td>\n",
       "      <td>...</td>\n",
       "      <td>...</td>\n",
       "      <td>...</td>\n",
       "      <td>...</td>\n",
       "      <td>...</td>\n",
       "      <td>...</td>\n",
       "      <td>...</td>\n",
       "      <td>...</td>\n",
       "      <td>...</td>\n",
       "      <td>...</td>\n",
       "      <td>...</td>\n",
       "      <td>...</td>\n",
       "      <td>...</td>\n",
       "      <td>...</td>\n",
       "      <td>...</td>\n",
       "    </tr>\n",
       "    <tr>\n",
       "      <th>269</th>\n",
       "      <td>269</td>\n",
       "      <td>194845794</td>\n",
       "      <td>0.236381</td>\n",
       "      <td>1</td>\n",
       "      <td>03-JAN-2019</td>\n",
       "      <td>4</td>\n",
       "      <td>53</td>\n",
       "      <td>1</td>\n",
       "      <td>4</td>\n",
       "      <td>5</td>\n",
       "      <td>...</td>\n",
       "      <td>0</td>\n",
       "      <td>0</td>\n",
       "      <td>0</td>\n",
       "      <td>0</td>\n",
       "      <td>0</td>\n",
       "      <td>0</td>\n",
       "      <td>1</td>\n",
       "      <td>0</td>\n",
       "      <td>0</td>\n",
       "      <td>0</td>\n",
       "    </tr>\n",
       "    <tr>\n",
       "      <th>270</th>\n",
       "      <td>270</td>\n",
       "      <td>194850497</td>\n",
       "      <td>0.236381</td>\n",
       "      <td>1</td>\n",
       "      <td>19-NOV-2018</td>\n",
       "      <td>4</td>\n",
       "      <td>71</td>\n",
       "      <td>6</td>\n",
       "      <td>1</td>\n",
       "      <td>1</td>\n",
       "      <td>...</td>\n",
       "      <td>0</td>\n",
       "      <td>0</td>\n",
       "      <td>0</td>\n",
       "      <td>0</td>\n",
       "      <td>1</td>\n",
       "      <td>0</td>\n",
       "      <td>1</td>\n",
       "      <td>1</td>\n",
       "      <td>0</td>\n",
       "      <td>0</td>\n",
       "    </tr>\n",
       "    <tr>\n",
       "      <th>271</th>\n",
       "      <td>271</td>\n",
       "      <td>194873629</td>\n",
       "      <td>0.236381</td>\n",
       "      <td>1</td>\n",
       "      <td>13-NOV-2018</td>\n",
       "      <td>1</td>\n",
       "      <td>72</td>\n",
       "      <td>6</td>\n",
       "      <td>1</td>\n",
       "      <td>1</td>\n",
       "      <td>...</td>\n",
       "      <td>0</td>\n",
       "      <td>0</td>\n",
       "      <td>1</td>\n",
       "      <td>1</td>\n",
       "      <td>0</td>\n",
       "      <td>0</td>\n",
       "      <td>0</td>\n",
       "      <td>0</td>\n",
       "      <td>0</td>\n",
       "      <td>0</td>\n",
       "    </tr>\n",
       "    <tr>\n",
       "      <th>272</th>\n",
       "      <td>272</td>\n",
       "      <td>195236979</td>\n",
       "      <td>2.814055</td>\n",
       "      <td>1</td>\n",
       "      <td>18-NOV-2018</td>\n",
       "      <td>1</td>\n",
       "      <td>20</td>\n",
       "      <td>6</td>\n",
       "      <td>1</td>\n",
       "      <td>1</td>\n",
       "      <td>...</td>\n",
       "      <td>0</td>\n",
       "      <td>0</td>\n",
       "      <td>1</td>\n",
       "      <td>0</td>\n",
       "      <td>1</td>\n",
       "      <td>0</td>\n",
       "      <td>0</td>\n",
       "      <td>1</td>\n",
       "      <td>0</td>\n",
       "      <td>0</td>\n",
       "    </tr>\n",
       "    <tr>\n",
       "      <th>273</th>\n",
       "      <td>273</td>\n",
       "      <td>196860170</td>\n",
       "      <td>2.354026</td>\n",
       "      <td>1</td>\n",
       "      <td>30-NOV-2018</td>\n",
       "      <td>2</td>\n",
       "      <td>34</td>\n",
       "      <td>6</td>\n",
       "      <td>1</td>\n",
       "      <td>1</td>\n",
       "      <td>...</td>\n",
       "      <td>1</td>\n",
       "      <td>0</td>\n",
       "      <td>1</td>\n",
       "      <td>0</td>\n",
       "      <td>0</td>\n",
       "      <td>0</td>\n",
       "      <td>0</td>\n",
       "      <td>0</td>\n",
       "      <td>1</td>\n",
       "      <td>0</td>\n",
       "    </tr>\n",
       "  </tbody>\n",
       "</table>\n",
       "<p>274 rows × 567 columns</p>\n",
       "</div>"
      ],
      "text/plain": [
       "     Unnamed: 0    STUDYID    WEIGHT  SURVEYCOMPLETED GRESPONDENT_DATE  \\\n",
       "0             0  151768927  0.986143                0      26-APR-2016   \n",
       "1             1  152357242  0.379683                0      07-APR-2016   \n",
       "2             2  152444055  0.705381                0      01-MAY-2016   \n",
       "3             3  152525272  1.595398                0      20-APR-2016   \n",
       "4             4  152894493  1.870422                0      05-MAY-2016   \n",
       "..          ...        ...       ...              ...              ...   \n",
       "269         269  194845794  0.236381                1      03-JAN-2019   \n",
       "270         270  194850497  0.236381                1      19-NOV-2018   \n",
       "271         271  194873629  0.236381                1      13-NOV-2018   \n",
       "272         272  195236979  2.814055                1      18-NOV-2018   \n",
       "273         273  196860170  2.354026                1      30-NOV-2018   \n",
       "\n",
       "    GCENREG  AGE  RACE  RACE_RECODE  RACE_RECODE_CAT5  ... ACE_SEP ACE_INC  \\\n",
       "0         1   65     6            1                 1  ...       0       0   \n",
       "1         3   38     6            1                 1  ...       0       0   \n",
       "2         3   25     6            1                 1  ...       0       0   \n",
       "3         4   18     6            1                 1  ...       1       1   \n",
       "4         2   30     8            3                 3  ...       0       0   \n",
       "..      ...  ...   ...          ...               ...  ...     ...     ...   \n",
       "269       4   53     1            4                 5  ...       0       0   \n",
       "270       4   71     6            1                 1  ...       0       0   \n",
       "271       1   72     6            1                 1  ...       0       0   \n",
       "272       1   20     6            1                 1  ...       0       0   \n",
       "273       2   34     6            1                 1  ...       1       0   \n",
       "\n",
       "     ACE_EMO_I  ACE_PHY_I ACE_SEX_I  ACE_IPV_I ACE_SUB_I  ACE_MEN_I ACE_SEP_I  \\\n",
       "0            1          0         0          0         0          0         0   \n",
       "1            0          0         0          0         0          1         0   \n",
       "2            0          0         0          0         0          1         0   \n",
       "3            1          0         0          1         1          1         1   \n",
       "4            1          0         0          0         0          0         0   \n",
       "..         ...        ...       ...        ...       ...        ...       ...   \n",
       "269          0          0         0          0         1          0         0   \n",
       "270          0          0         1          0         1          1         0   \n",
       "271          1          1         0          0         0          0         0   \n",
       "272          1          0         1          0         0          1         0   \n",
       "273          1          0         0          0         0          0         1   \n",
       "\n",
       "    ACE_INC_I  \n",
       "0           0  \n",
       "1           0  \n",
       "2           0  \n",
       "3           1  \n",
       "4           0  \n",
       "..        ...  \n",
       "269         0  \n",
       "270         0  \n",
       "271         0  \n",
       "272         0  \n",
       "273         0  \n",
       "\n",
       "[274 rows x 567 columns]"
      ]
     },
     "execution_count": 2,
     "metadata": {},
     "output_type": "execute_result"
    }
   ],
   "source": [
    "transpop = pd.read_csv('data/transpop.csv')\n",
    "transpop"
   ]
  },
  {
   "cell_type": "code",
   "execution_count": 3,
   "id": "d7418b67",
   "metadata": {},
   "outputs": [
    {
     "data": {
      "text/plain": [
       "Index(['Unnamed: 0', 'STUDYID', 'WEIGHT', 'SURVEYCOMPLETED',\n",
       "       'GRESPONDENT_DATE', 'GCENREG', 'AGE', 'RACE', 'RACE_RECODE',\n",
       "       'RACE_RECODE_CAT5',\n",
       "       ...\n",
       "       'ACE_SEP', 'ACE_INC', 'ACE_EMO_I', 'ACE_PHY_I', 'ACE_SEX_I',\n",
       "       'ACE_IPV_I', 'ACE_SUB_I', 'ACE_MEN_I', 'ACE_SEP_I', 'ACE_INC_I'],\n",
       "      dtype='object', length=567)"
      ]
     },
     "execution_count": 3,
     "metadata": {},
     "output_type": "execute_result"
    }
   ],
   "source": [
    "transpop.columns"
   ]
  },
  {
   "cell_type": "code",
   "execution_count": 4,
   "id": "efa4548b",
   "metadata": {},
   "outputs": [
    {
     "data": {
      "text/html": [
       "<div>\n",
       "<style scoped>\n",
       "    .dataframe tbody tr th:only-of-type {\n",
       "        vertical-align: middle;\n",
       "    }\n",
       "\n",
       "    .dataframe tbody tr th {\n",
       "        vertical-align: top;\n",
       "    }\n",
       "\n",
       "    .dataframe thead th {\n",
       "        text-align: right;\n",
       "    }\n",
       "</style>\n",
       "<table border=\"1\" class=\"dataframe\">\n",
       "  <thead>\n",
       "    <tr style=\"text-align: right;\">\n",
       "      <th></th>\n",
       "      <th>Unnamed: 0</th>\n",
       "      <th>STUDYID</th>\n",
       "      <th>WEIGHT</th>\n",
       "      <th>SURVEYCOMPLETED</th>\n",
       "      <th>AGE</th>\n",
       "      <th>RACE</th>\n",
       "      <th>RACE_RECODE</th>\n",
       "      <th>RACE_RECODE_CAT5</th>\n",
       "      <th>SEX</th>\n",
       "      <th>GENDER</th>\n",
       "      <th>...</th>\n",
       "      <th>NEGEXPFUTURE_I</th>\n",
       "      <th>ACE_I</th>\n",
       "      <th>ACE_EMO_I</th>\n",
       "      <th>ACE_PHY_I</th>\n",
       "      <th>ACE_SEX_I</th>\n",
       "      <th>ACE_IPV_I</th>\n",
       "      <th>ACE_SUB_I</th>\n",
       "      <th>ACE_MEN_I</th>\n",
       "      <th>ACE_SEP_I</th>\n",
       "      <th>ACE_INC_I</th>\n",
       "    </tr>\n",
       "  </thead>\n",
       "  <tbody>\n",
       "    <tr>\n",
       "      <th>count</th>\n",
       "      <td>274.000000</td>\n",
       "      <td>2.740000e+02</td>\n",
       "      <td>274.000000</td>\n",
       "      <td>274.000000</td>\n",
       "      <td>274.000000</td>\n",
       "      <td>274.000000</td>\n",
       "      <td>274.000000</td>\n",
       "      <td>274.000000</td>\n",
       "      <td>274.000000</td>\n",
       "      <td>274.000000</td>\n",
       "      <td>...</td>\n",
       "      <td>274.000000</td>\n",
       "      <td>274.000000</td>\n",
       "      <td>274.000000</td>\n",
       "      <td>274.000000</td>\n",
       "      <td>274.000000</td>\n",
       "      <td>274.000000</td>\n",
       "      <td>274.000000</td>\n",
       "      <td>274.000000</td>\n",
       "      <td>274.000000</td>\n",
       "      <td>274.000000</td>\n",
       "    </tr>\n",
       "    <tr>\n",
       "      <th>mean</th>\n",
       "      <td>136.500000</td>\n",
       "      <td>1.718596e+08</td>\n",
       "      <td>1.000000</td>\n",
       "      <td>0.813869</td>\n",
       "      <td>39.361314</td>\n",
       "      <td>5.762774</td>\n",
       "      <td>1.937956</td>\n",
       "      <td>1.762774</td>\n",
       "      <td>1.525547</td>\n",
       "      <td>3.299270</td>\n",
       "      <td>...</td>\n",
       "      <td>3.176805</td>\n",
       "      <td>3.208029</td>\n",
       "      <td>0.704380</td>\n",
       "      <td>0.430657</td>\n",
       "      <td>0.401460</td>\n",
       "      <td>0.288321</td>\n",
       "      <td>0.394161</td>\n",
       "      <td>0.496350</td>\n",
       "      <td>0.357664</td>\n",
       "      <td>0.135036</td>\n",
       "    </tr>\n",
       "    <tr>\n",
       "      <th>std</th>\n",
       "      <td>79.241193</td>\n",
       "      <td>1.057721e+07</td>\n",
       "      <td>0.864983</td>\n",
       "      <td>0.389925</td>\n",
       "      <td>16.889344</td>\n",
       "      <td>1.689854</td>\n",
       "      <td>1.672822</td>\n",
       "      <td>1.266040</td>\n",
       "      <td>0.500261</td>\n",
       "      <td>1.436647</td>\n",
       "      <td>...</td>\n",
       "      <td>0.915362</td>\n",
       "      <td>2.094072</td>\n",
       "      <td>0.457156</td>\n",
       "      <td>0.496074</td>\n",
       "      <td>0.491091</td>\n",
       "      <td>0.453810</td>\n",
       "      <td>0.489564</td>\n",
       "      <td>0.500902</td>\n",
       "      <td>0.480190</td>\n",
       "      <td>0.342388</td>\n",
       "    </tr>\n",
       "    <tr>\n",
       "      <th>min</th>\n",
       "      <td>0.000000</td>\n",
       "      <td>1.517689e+08</td>\n",
       "      <td>0.236381</td>\n",
       "      <td>0.000000</td>\n",
       "      <td>18.000000</td>\n",
       "      <td>1.000000</td>\n",
       "      <td>1.000000</td>\n",
       "      <td>1.000000</td>\n",
       "      <td>1.000000</td>\n",
       "      <td>1.000000</td>\n",
       "      <td>...</td>\n",
       "      <td>1.000000</td>\n",
       "      <td>0.000000</td>\n",
       "      <td>0.000000</td>\n",
       "      <td>0.000000</td>\n",
       "      <td>0.000000</td>\n",
       "      <td>0.000000</td>\n",
       "      <td>0.000000</td>\n",
       "      <td>0.000000</td>\n",
       "      <td>0.000000</td>\n",
       "      <td>0.000000</td>\n",
       "    </tr>\n",
       "    <tr>\n",
       "      <th>25%</th>\n",
       "      <td>68.250000</td>\n",
       "      <td>1.681479e+08</td>\n",
       "      <td>0.317048</td>\n",
       "      <td>1.000000</td>\n",
       "      <td>24.000000</td>\n",
       "      <td>6.000000</td>\n",
       "      <td>1.000000</td>\n",
       "      <td>1.000000</td>\n",
       "      <td>1.000000</td>\n",
       "      <td>2.000000</td>\n",
       "      <td>...</td>\n",
       "      <td>2.666667</td>\n",
       "      <td>2.000000</td>\n",
       "      <td>0.000000</td>\n",
       "      <td>0.000000</td>\n",
       "      <td>0.000000</td>\n",
       "      <td>0.000000</td>\n",
       "      <td>0.000000</td>\n",
       "      <td>0.000000</td>\n",
       "      <td>0.000000</td>\n",
       "      <td>0.000000</td>\n",
       "    </tr>\n",
       "    <tr>\n",
       "      <th>50%</th>\n",
       "      <td>136.500000</td>\n",
       "      <td>1.726608e+08</td>\n",
       "      <td>0.645186</td>\n",
       "      <td>1.000000</td>\n",
       "      <td>34.000000</td>\n",
       "      <td>6.000000</td>\n",
       "      <td>1.000000</td>\n",
       "      <td>1.000000</td>\n",
       "      <td>2.000000</td>\n",
       "      <td>4.000000</td>\n",
       "      <td>...</td>\n",
       "      <td>3.222222</td>\n",
       "      <td>3.000000</td>\n",
       "      <td>1.000000</td>\n",
       "      <td>0.000000</td>\n",
       "      <td>0.000000</td>\n",
       "      <td>0.000000</td>\n",
       "      <td>0.000000</td>\n",
       "      <td>0.000000</td>\n",
       "      <td>0.000000</td>\n",
       "      <td>0.000000</td>\n",
       "    </tr>\n",
       "    <tr>\n",
       "      <th>75%</th>\n",
       "      <td>204.750000</td>\n",
       "      <td>1.765349e+08</td>\n",
       "      <td>1.373568</td>\n",
       "      <td>1.000000</td>\n",
       "      <td>54.000000</td>\n",
       "      <td>6.000000</td>\n",
       "      <td>2.000000</td>\n",
       "      <td>2.000000</td>\n",
       "      <td>2.000000</td>\n",
       "      <td>5.000000</td>\n",
       "      <td>...</td>\n",
       "      <td>3.861111</td>\n",
       "      <td>5.000000</td>\n",
       "      <td>1.000000</td>\n",
       "      <td>1.000000</td>\n",
       "      <td>1.000000</td>\n",
       "      <td>1.000000</td>\n",
       "      <td>1.000000</td>\n",
       "      <td>1.000000</td>\n",
       "      <td>1.000000</td>\n",
       "      <td>0.000000</td>\n",
       "    </tr>\n",
       "    <tr>\n",
       "      <th>max</th>\n",
       "      <td>273.000000</td>\n",
       "      <td>1.968602e+08</td>\n",
       "      <td>2.814055</td>\n",
       "      <td>1.000000</td>\n",
       "      <td>72.000000</td>\n",
       "      <td>9.000000</td>\n",
       "      <td>7.000000</td>\n",
       "      <td>5.000000</td>\n",
       "      <td>2.000000</td>\n",
       "      <td>5.000000</td>\n",
       "      <td>...</td>\n",
       "      <td>5.000000</td>\n",
       "      <td>8.000000</td>\n",
       "      <td>1.000000</td>\n",
       "      <td>1.000000</td>\n",
       "      <td>1.000000</td>\n",
       "      <td>1.000000</td>\n",
       "      <td>1.000000</td>\n",
       "      <td>1.000000</td>\n",
       "      <td>1.000000</td>\n",
       "      <td>1.000000</td>\n",
       "    </tr>\n",
       "  </tbody>\n",
       "</table>\n",
       "<p>8 rows × 72 columns</p>\n",
       "</div>"
      ],
      "text/plain": [
       "       Unnamed: 0       STUDYID      WEIGHT  SURVEYCOMPLETED         AGE  \\\n",
       "count  274.000000  2.740000e+02  274.000000       274.000000  274.000000   \n",
       "mean   136.500000  1.718596e+08    1.000000         0.813869   39.361314   \n",
       "std     79.241193  1.057721e+07    0.864983         0.389925   16.889344   \n",
       "min      0.000000  1.517689e+08    0.236381         0.000000   18.000000   \n",
       "25%     68.250000  1.681479e+08    0.317048         1.000000   24.000000   \n",
       "50%    136.500000  1.726608e+08    0.645186         1.000000   34.000000   \n",
       "75%    204.750000  1.765349e+08    1.373568         1.000000   54.000000   \n",
       "max    273.000000  1.968602e+08    2.814055         1.000000   72.000000   \n",
       "\n",
       "             RACE  RACE_RECODE  RACE_RECODE_CAT5         SEX      GENDER  ...  \\\n",
       "count  274.000000   274.000000        274.000000  274.000000  274.000000  ...   \n",
       "mean     5.762774     1.937956          1.762774    1.525547    3.299270  ...   \n",
       "std      1.689854     1.672822          1.266040    0.500261    1.436647  ...   \n",
       "min      1.000000     1.000000          1.000000    1.000000    1.000000  ...   \n",
       "25%      6.000000     1.000000          1.000000    1.000000    2.000000  ...   \n",
       "50%      6.000000     1.000000          1.000000    2.000000    4.000000  ...   \n",
       "75%      6.000000     2.000000          2.000000    2.000000    5.000000  ...   \n",
       "max      9.000000     7.000000          5.000000    2.000000    5.000000  ...   \n",
       "\n",
       "       NEGEXPFUTURE_I       ACE_I   ACE_EMO_I   ACE_PHY_I   ACE_SEX_I  \\\n",
       "count      274.000000  274.000000  274.000000  274.000000  274.000000   \n",
       "mean         3.176805    3.208029    0.704380    0.430657    0.401460   \n",
       "std          0.915362    2.094072    0.457156    0.496074    0.491091   \n",
       "min          1.000000    0.000000    0.000000    0.000000    0.000000   \n",
       "25%          2.666667    2.000000    0.000000    0.000000    0.000000   \n",
       "50%          3.222222    3.000000    1.000000    0.000000    0.000000   \n",
       "75%          3.861111    5.000000    1.000000    1.000000    1.000000   \n",
       "max          5.000000    8.000000    1.000000    1.000000    1.000000   \n",
       "\n",
       "        ACE_IPV_I   ACE_SUB_I   ACE_MEN_I   ACE_SEP_I   ACE_INC_I  \n",
       "count  274.000000  274.000000  274.000000  274.000000  274.000000  \n",
       "mean     0.288321    0.394161    0.496350    0.357664    0.135036  \n",
       "std      0.453810    0.489564    0.500902    0.480190    0.342388  \n",
       "min      0.000000    0.000000    0.000000    0.000000    0.000000  \n",
       "25%      0.000000    0.000000    0.000000    0.000000    0.000000  \n",
       "50%      0.000000    0.000000    0.000000    0.000000    0.000000  \n",
       "75%      1.000000    1.000000    1.000000    1.000000    0.000000  \n",
       "max      1.000000    1.000000    1.000000    1.000000    1.000000  \n",
       "\n",
       "[8 rows x 72 columns]"
      ]
     },
     "execution_count": 4,
     "metadata": {},
     "output_type": "execute_result"
    }
   ],
   "source": [
    "transpop.describe()"
   ]
  },
  {
   "cell_type": "code",
   "execution_count": 5,
   "id": "c57f4c25",
   "metadata": {},
   "outputs": [
    {
     "data": {
      "text/html": [
       "<div>\n",
       "<style scoped>\n",
       "    .dataframe tbody tr th:only-of-type {\n",
       "        vertical-align: middle;\n",
       "    }\n",
       "\n",
       "    .dataframe tbody tr th {\n",
       "        vertical-align: top;\n",
       "    }\n",
       "\n",
       "    .dataframe thead th {\n",
       "        text-align: right;\n",
       "    }\n",
       "</style>\n",
       "<table border=\"1\" class=\"dataframe\">\n",
       "  <thead>\n",
       "    <tr style=\"text-align: right;\">\n",
       "      <th></th>\n",
       "      <th>Unnamed: 0</th>\n",
       "      <th>STUDYID</th>\n",
       "      <th>WEIGHT</th>\n",
       "      <th>GMETHOD_TYPE</th>\n",
       "      <th>GRESPONDENT_DATE</th>\n",
       "      <th>GCENREG</th>\n",
       "      <th>AGE</th>\n",
       "      <th>RACE</th>\n",
       "      <th>RACE_RECODE</th>\n",
       "      <th>RACE_RECODE_CAT5</th>\n",
       "      <th>...</th>\n",
       "      <th>ACE_SUB</th>\n",
       "      <th>ACE_SUB_I</th>\n",
       "      <th>ACE_MEN</th>\n",
       "      <th>ACE_MEN_I</th>\n",
       "      <th>ACE_SEP</th>\n",
       "      <th>ACE_SEP_I</th>\n",
       "      <th>ACE_INC</th>\n",
       "      <th>ACE_INC_I</th>\n",
       "      <th>LIFESAT</th>\n",
       "      <th>LIFESAT_I</th>\n",
       "    </tr>\n",
       "  </thead>\n",
       "  <tbody>\n",
       "    <tr>\n",
       "      <th>0</th>\n",
       "      <td>0</td>\n",
       "      <td>196226208</td>\n",
       "      <td>0.255088</td>\n",
       "      <td>SCAN</td>\n",
       "      <td>28-DEC-2018</td>\n",
       "      <td>2</td>\n",
       "      <td>68</td>\n",
       "      <td>6</td>\n",
       "      <td>1</td>\n",
       "      <td>1</td>\n",
       "      <td>...</td>\n",
       "      <td>1</td>\n",
       "      <td>1</td>\n",
       "      <td>0</td>\n",
       "      <td>0</td>\n",
       "      <td>0</td>\n",
       "      <td>0</td>\n",
       "      <td>0</td>\n",
       "      <td>0</td>\n",
       "      <td>4.1999998092651</td>\n",
       "      <td>4.2</td>\n",
       "    </tr>\n",
       "    <tr>\n",
       "      <th>1</th>\n",
       "      <td>1</td>\n",
       "      <td>175270682</td>\n",
       "      <td>0.723258</td>\n",
       "      <td>SCAN</td>\n",
       "      <td>20-MAR-2018</td>\n",
       "      <td>2</td>\n",
       "      <td>67</td>\n",
       "      <td>6</td>\n",
       "      <td>1</td>\n",
       "      <td>1</td>\n",
       "      <td>...</td>\n",
       "      <td>1</td>\n",
       "      <td>1</td>\n",
       "      <td>0</td>\n",
       "      <td>0</td>\n",
       "      <td>1</td>\n",
       "      <td>1</td>\n",
       "      <td>0</td>\n",
       "      <td>0</td>\n",
       "      <td>2</td>\n",
       "      <td>2.0</td>\n",
       "    </tr>\n",
       "    <tr>\n",
       "      <th>2</th>\n",
       "      <td>2</td>\n",
       "      <td>175300494</td>\n",
       "      <td>2.187140</td>\n",
       "      <td>WEB</td>\n",
       "      <td>22-FEB-2018</td>\n",
       "      <td>2</td>\n",
       "      <td>47</td>\n",
       "      <td>6</td>\n",
       "      <td>1</td>\n",
       "      <td>1</td>\n",
       "      <td>...</td>\n",
       "      <td>1</td>\n",
       "      <td>1</td>\n",
       "      <td>1</td>\n",
       "      <td>1</td>\n",
       "      <td>1</td>\n",
       "      <td>1</td>\n",
       "      <td>0</td>\n",
       "      <td>0</td>\n",
       "      <td>6.5999999046326</td>\n",
       "      <td>6.6</td>\n",
       "    </tr>\n",
       "    <tr>\n",
       "      <th>3</th>\n",
       "      <td>3</td>\n",
       "      <td>196175230</td>\n",
       "      <td>0.877834</td>\n",
       "      <td>WEB</td>\n",
       "      <td>29-NOV-2018</td>\n",
       "      <td>4</td>\n",
       "      <td>38</td>\n",
       "      <td>6</td>\n",
       "      <td>1</td>\n",
       "      <td>1</td>\n",
       "      <td>...</td>\n",
       "      <td>0</td>\n",
       "      <td>0</td>\n",
       "      <td>0</td>\n",
       "      <td>0</td>\n",
       "      <td>0</td>\n",
       "      <td>0</td>\n",
       "      <td>0</td>\n",
       "      <td>0</td>\n",
       "      <td>5.5999999046326</td>\n",
       "      <td>5.6</td>\n",
       "    </tr>\n",
       "    <tr>\n",
       "      <th>4</th>\n",
       "      <td>4</td>\n",
       "      <td>175300700</td>\n",
       "      <td>0.948836</td>\n",
       "      <td>WEB</td>\n",
       "      <td>15-MAR-2018</td>\n",
       "      <td>4</td>\n",
       "      <td>25</td>\n",
       "      <td>6</td>\n",
       "      <td>1</td>\n",
       "      <td>1</td>\n",
       "      <td>...</td>\n",
       "      <td>1</td>\n",
       "      <td>1</td>\n",
       "      <td>1</td>\n",
       "      <td>1</td>\n",
       "      <td>1</td>\n",
       "      <td>1</td>\n",
       "      <td>0</td>\n",
       "      <td>0</td>\n",
       "      <td>5.1999998092651</td>\n",
       "      <td>5.2</td>\n",
       "    </tr>\n",
       "    <tr>\n",
       "      <th>...</th>\n",
       "      <td>...</td>\n",
       "      <td>...</td>\n",
       "      <td>...</td>\n",
       "      <td>...</td>\n",
       "      <td>...</td>\n",
       "      <td>...</td>\n",
       "      <td>...</td>\n",
       "      <td>...</td>\n",
       "      <td>...</td>\n",
       "      <td>...</td>\n",
       "      <td>...</td>\n",
       "      <td>...</td>\n",
       "      <td>...</td>\n",
       "      <td>...</td>\n",
       "      <td>...</td>\n",
       "      <td>...</td>\n",
       "      <td>...</td>\n",
       "      <td>...</td>\n",
       "      <td>...</td>\n",
       "      <td>...</td>\n",
       "      <td>...</td>\n",
       "    </tr>\n",
       "    <tr>\n",
       "      <th>1157</th>\n",
       "      <td>1157</td>\n",
       "      <td>195669344</td>\n",
       "      <td>1.738075</td>\n",
       "      <td>WEB</td>\n",
       "      <td>29-NOV-2018</td>\n",
       "      <td>2</td>\n",
       "      <td>20</td>\n",
       "      <td>6</td>\n",
       "      <td>1</td>\n",
       "      <td>1</td>\n",
       "      <td>...</td>\n",
       "      <td>0</td>\n",
       "      <td>0</td>\n",
       "      <td>0</td>\n",
       "      <td>0</td>\n",
       "      <td>0</td>\n",
       "      <td>0</td>\n",
       "      <td>0</td>\n",
       "      <td>0</td>\n",
       "      <td>6</td>\n",
       "      <td>6.0</td>\n",
       "    </tr>\n",
       "    <tr>\n",
       "      <th>1158</th>\n",
       "      <td>1158</td>\n",
       "      <td>195896207</td>\n",
       "      <td>0.371366</td>\n",
       "      <td>SCAN</td>\n",
       "      <td>27-DEC-2018</td>\n",
       "      <td>4</td>\n",
       "      <td>56</td>\n",
       "      <td>5</td>\n",
       "      <td>5</td>\n",
       "      <td>5</td>\n",
       "      <td>...</td>\n",
       "      <td>0</td>\n",
       "      <td>0</td>\n",
       "      <td>1</td>\n",
       "      <td>1</td>\n",
       "      <td>1</td>\n",
       "      <td>1</td>\n",
       "      <td>0</td>\n",
       "      <td>0</td>\n",
       "      <td>2.5999999046326</td>\n",
       "      <td>2.6</td>\n",
       "    </tr>\n",
       "    <tr>\n",
       "      <th>1159</th>\n",
       "      <td>1159</td>\n",
       "      <td>175276145</td>\n",
       "      <td>0.797851</td>\n",
       "      <td>WEB</td>\n",
       "      <td>02-MAR-2018</td>\n",
       "      <td>4</td>\n",
       "      <td>47</td>\n",
       "      <td>6</td>\n",
       "      <td>1</td>\n",
       "      <td>1</td>\n",
       "      <td>...</td>\n",
       "      <td>0</td>\n",
       "      <td>0</td>\n",
       "      <td>0</td>\n",
       "      <td>0</td>\n",
       "      <td>1</td>\n",
       "      <td>1</td>\n",
       "      <td>0</td>\n",
       "      <td>0</td>\n",
       "      <td>6.4000000953674</td>\n",
       "      <td>6.4</td>\n",
       "    </tr>\n",
       "    <tr>\n",
       "      <th>1160</th>\n",
       "      <td>1160</td>\n",
       "      <td>175291515</td>\n",
       "      <td>1.780040</td>\n",
       "      <td>WEB</td>\n",
       "      <td>22-FEB-2018</td>\n",
       "      <td>3</td>\n",
       "      <td>26</td>\n",
       "      <td>6</td>\n",
       "      <td>1</td>\n",
       "      <td>1</td>\n",
       "      <td>...</td>\n",
       "      <td>0</td>\n",
       "      <td>0</td>\n",
       "      <td>1</td>\n",
       "      <td>1</td>\n",
       "      <td>0</td>\n",
       "      <td>0</td>\n",
       "      <td>0</td>\n",
       "      <td>0</td>\n",
       "      <td>5.4000000953674</td>\n",
       "      <td>5.4</td>\n",
       "    </tr>\n",
       "    <tr>\n",
       "      <th>1161</th>\n",
       "      <td>1161</td>\n",
       "      <td>196221469</td>\n",
       "      <td>0.750153</td>\n",
       "      <td>WEB</td>\n",
       "      <td>03-DEC-2018</td>\n",
       "      <td>1</td>\n",
       "      <td>57</td>\n",
       "      <td>2</td>\n",
       "      <td>2</td>\n",
       "      <td>2</td>\n",
       "      <td>...</td>\n",
       "      <td>0</td>\n",
       "      <td>0</td>\n",
       "      <td>0</td>\n",
       "      <td>0</td>\n",
       "      <td>0</td>\n",
       "      <td>0</td>\n",
       "      <td>0</td>\n",
       "      <td>0</td>\n",
       "      <td>4.5999999046326</td>\n",
       "      <td>4.6</td>\n",
       "    </tr>\n",
       "  </tbody>\n",
       "</table>\n",
       "<p>1162 rows × 504 columns</p>\n",
       "</div>"
      ],
      "text/plain": [
       "      Unnamed: 0    STUDYID    WEIGHT GMETHOD_TYPE GRESPONDENT_DATE  GCENREG  \\\n",
       "0              0  196226208  0.255088         SCAN      28-DEC-2018        2   \n",
       "1              1  175270682  0.723258         SCAN      20-MAR-2018        2   \n",
       "2              2  175300494  2.187140          WEB      22-FEB-2018        2   \n",
       "3              3  196175230  0.877834          WEB      29-NOV-2018        4   \n",
       "4              4  175300700  0.948836          WEB      15-MAR-2018        4   \n",
       "...          ...        ...       ...          ...              ...      ...   \n",
       "1157        1157  195669344  1.738075          WEB      29-NOV-2018        2   \n",
       "1158        1158  195896207  0.371366         SCAN      27-DEC-2018        4   \n",
       "1159        1159  175276145  0.797851          WEB      02-MAR-2018        4   \n",
       "1160        1160  175291515  1.780040          WEB      22-FEB-2018        3   \n",
       "1161        1161  196221469  0.750153          WEB      03-DEC-2018        1   \n",
       "\n",
       "      AGE  RACE  RACE_RECODE  RACE_RECODE_CAT5  ... ACE_SUB ACE_SUB_I  \\\n",
       "0      68     6            1                 1  ...       1         1   \n",
       "1      67     6            1                 1  ...       1         1   \n",
       "2      47     6            1                 1  ...       1         1   \n",
       "3      38     6            1                 1  ...       0         0   \n",
       "4      25     6            1                 1  ...       1         1   \n",
       "...   ...   ...          ...               ...  ...     ...       ...   \n",
       "1157   20     6            1                 1  ...       0         0   \n",
       "1158   56     5            5                 5  ...       0         0   \n",
       "1159   47     6            1                 1  ...       0         0   \n",
       "1160   26     6            1                 1  ...       0         0   \n",
       "1161   57     2            2                 2  ...       0         0   \n",
       "\n",
       "      ACE_MEN  ACE_MEN_I ACE_SEP  ACE_SEP_I ACE_INC  ACE_INC_I  \\\n",
       "0           0          0       0          0       0          0   \n",
       "1           0          0       1          1       0          0   \n",
       "2           1          1       1          1       0          0   \n",
       "3           0          0       0          0       0          0   \n",
       "4           1          1       1          1       0          0   \n",
       "...       ...        ...     ...        ...     ...        ...   \n",
       "1157        0          0       0          0       0          0   \n",
       "1158        1          1       1          1       0          0   \n",
       "1159        0          0       1          1       0          0   \n",
       "1160        1          1       0          0       0          0   \n",
       "1161        0          0       0          0       0          0   \n",
       "\n",
       "              LIFESAT  LIFESAT_I  \n",
       "0     4.1999998092651        4.2  \n",
       "1                   2        2.0  \n",
       "2     6.5999999046326        6.6  \n",
       "3     5.5999999046326        5.6  \n",
       "4     5.1999998092651        5.2  \n",
       "...               ...        ...  \n",
       "1157                6        6.0  \n",
       "1158  2.5999999046326        2.6  \n",
       "1159  6.4000000953674        6.4  \n",
       "1160  5.4000000953674        5.4  \n",
       "1161  4.5999999046326        4.6  \n",
       "\n",
       "[1162 rows x 504 columns]"
      ]
     },
     "execution_count": 5,
     "metadata": {},
     "output_type": "execute_result"
    }
   ],
   "source": [
    "cisgender = pd.read_csv('data/cisgender.csv')\n",
    "cisgender"
   ]
  },
  {
   "cell_type": "code",
   "execution_count": 6,
   "id": "c8167315",
   "metadata": {
    "scrolled": false
   },
   "outputs": [
    {
     "name": "stderr",
     "output_type": "stream",
     "text": [
      "/Library/Frameworks/Python.framework/Versions/3.10/lib/python3.10/site-packages/IPython/core/interactiveshell.py:3251: DtypeWarning: Columns (8,18,19,20,22,23,25,39,74,75,77,215,297,298,306,307,308,309,311,312,313) have mixed types.Specify dtype option on import or set low_memory=False.\n",
      "  exec(code_obj, self.user_global_ns, self.user_ns)\n"
     ]
    },
    {
     "data": {
      "text/html": [
       "<div>\n",
       "<style scoped>\n",
       "    .dataframe tbody tr th:only-of-type {\n",
       "        vertical-align: middle;\n",
       "    }\n",
       "\n",
       "    .dataframe tbody tr th {\n",
       "        vertical-align: top;\n",
       "    }\n",
       "\n",
       "    .dataframe thead th {\n",
       "        text-align: right;\n",
       "    }\n",
       "</style>\n",
       "<table border=\"1\" class=\"dataframe\">\n",
       "  <thead>\n",
       "    <tr style=\"text-align: right;\">\n",
       "      <th></th>\n",
       "      <th>Unnamed: 0</th>\n",
       "      <th>STUDYID</th>\n",
       "      <th>WEIGHT_CISGENDER_TRANSPOP</th>\n",
       "      <th>WEIGHT_CISGENDER</th>\n",
       "      <th>WEIGHT_TRANSPOP</th>\n",
       "      <th>GMETHOD_TYPE</th>\n",
       "      <th>SURVEYCOMPLETED</th>\n",
       "      <th>GRESPONDENT_DATE</th>\n",
       "      <th>GCENREG</th>\n",
       "      <th>RACE</th>\n",
       "      <th>...</th>\n",
       "      <th>ACE_SEP</th>\n",
       "      <th>ACE_INC</th>\n",
       "      <th>ACE_EMO_I</th>\n",
       "      <th>ACE_PHY_I</th>\n",
       "      <th>ACE_SEX_I</th>\n",
       "      <th>ACE_IPV_I</th>\n",
       "      <th>ACE_SUB_I</th>\n",
       "      <th>ACE_MEN_I</th>\n",
       "      <th>ACE_SEP_I</th>\n",
       "      <th>ACE_INC_I</th>\n",
       "    </tr>\n",
       "  </thead>\n",
       "  <tbody>\n",
       "    <tr>\n",
       "      <th>0</th>\n",
       "      <td>0</td>\n",
       "      <td>151768927</td>\n",
       "      <td>0.022039</td>\n",
       "      <td></td>\n",
       "      <td>.9861429333687</td>\n",
       "      <td></td>\n",
       "      <td>0</td>\n",
       "      <td>26-APR-2016</td>\n",
       "      <td>1</td>\n",
       "      <td>6</td>\n",
       "      <td>...</td>\n",
       "      <td>0</td>\n",
       "      <td>0</td>\n",
       "      <td>1</td>\n",
       "      <td>0</td>\n",
       "      <td>0</td>\n",
       "      <td>0</td>\n",
       "      <td>0</td>\n",
       "      <td>0</td>\n",
       "      <td>0</td>\n",
       "      <td>0</td>\n",
       "    </tr>\n",
       "    <tr>\n",
       "      <th>1</th>\n",
       "      <td>1</td>\n",
       "      <td>152357242</td>\n",
       "      <td>0.008485</td>\n",
       "      <td></td>\n",
       "      <td>.3796825110912</td>\n",
       "      <td></td>\n",
       "      <td>0</td>\n",
       "      <td>07-APR-2016</td>\n",
       "      <td>3</td>\n",
       "      <td>6</td>\n",
       "      <td>...</td>\n",
       "      <td>0</td>\n",
       "      <td>0</td>\n",
       "      <td>0</td>\n",
       "      <td>0</td>\n",
       "      <td>0</td>\n",
       "      <td>0</td>\n",
       "      <td>0</td>\n",
       "      <td>1</td>\n",
       "      <td>0</td>\n",
       "      <td>0</td>\n",
       "    </tr>\n",
       "    <tr>\n",
       "      <th>2</th>\n",
       "      <td>2</td>\n",
       "      <td>152444055</td>\n",
       "      <td>0.015764</td>\n",
       "      <td></td>\n",
       "      <td>.705381155014</td>\n",
       "      <td></td>\n",
       "      <td>0</td>\n",
       "      <td>01-MAY-2016</td>\n",
       "      <td>3</td>\n",
       "      <td>6</td>\n",
       "      <td>...</td>\n",
       "      <td>0</td>\n",
       "      <td>0</td>\n",
       "      <td>0</td>\n",
       "      <td>0</td>\n",
       "      <td>0</td>\n",
       "      <td>0</td>\n",
       "      <td>0</td>\n",
       "      <td>1</td>\n",
       "      <td>0</td>\n",
       "      <td>0</td>\n",
       "    </tr>\n",
       "    <tr>\n",
       "      <th>3</th>\n",
       "      <td>3</td>\n",
       "      <td>152525272</td>\n",
       "      <td>0.035655</td>\n",
       "      <td></td>\n",
       "      <td>1.5953975915909</td>\n",
       "      <td></td>\n",
       "      <td>0</td>\n",
       "      <td>20-APR-2016</td>\n",
       "      <td>4</td>\n",
       "      <td>6</td>\n",
       "      <td>...</td>\n",
       "      <td>1</td>\n",
       "      <td>1</td>\n",
       "      <td>1</td>\n",
       "      <td>0</td>\n",
       "      <td>0</td>\n",
       "      <td>1</td>\n",
       "      <td>1</td>\n",
       "      <td>1</td>\n",
       "      <td>1</td>\n",
       "      <td>1</td>\n",
       "    </tr>\n",
       "    <tr>\n",
       "      <th>4</th>\n",
       "      <td>4</td>\n",
       "      <td>152894493</td>\n",
       "      <td>0.041802</td>\n",
       "      <td></td>\n",
       "      <td>1.870422244072</td>\n",
       "      <td></td>\n",
       "      <td>0</td>\n",
       "      <td>05-MAY-2016</td>\n",
       "      <td>2</td>\n",
       "      <td>8</td>\n",
       "      <td>...</td>\n",
       "      <td>0</td>\n",
       "      <td>0</td>\n",
       "      <td>1</td>\n",
       "      <td>0</td>\n",
       "      <td>0</td>\n",
       "      <td>0</td>\n",
       "      <td>0</td>\n",
       "      <td>0</td>\n",
       "      <td>0</td>\n",
       "      <td>0</td>\n",
       "    </tr>\n",
       "    <tr>\n",
       "      <th>...</th>\n",
       "      <td>...</td>\n",
       "      <td>...</td>\n",
       "      <td>...</td>\n",
       "      <td>...</td>\n",
       "      <td>...</td>\n",
       "      <td>...</td>\n",
       "      <td>...</td>\n",
       "      <td>...</td>\n",
       "      <td>...</td>\n",
       "      <td>...</td>\n",
       "      <td>...</td>\n",
       "      <td>...</td>\n",
       "      <td>...</td>\n",
       "      <td>...</td>\n",
       "      <td>...</td>\n",
       "      <td>...</td>\n",
       "      <td>...</td>\n",
       "      <td>...</td>\n",
       "      <td>...</td>\n",
       "      <td>...</td>\n",
       "      <td>...</td>\n",
       "    </tr>\n",
       "    <tr>\n",
       "      <th>1431</th>\n",
       "      <td>1431</td>\n",
       "      <td>197167223</td>\n",
       "      <td>6.299798</td>\n",
       "      <td>5.1374626159668</td>\n",
       "      <td></td>\n",
       "      <td>SCAN</td>\n",
       "      <td>2</td>\n",
       "      <td>27-DEC-2018</td>\n",
       "      <td>4</td>\n",
       "      <td>3</td>\n",
       "      <td>...</td>\n",
       "      <td>0</td>\n",
       "      <td>0</td>\n",
       "      <td>1</td>\n",
       "      <td>1</td>\n",
       "      <td>0</td>\n",
       "      <td>1</td>\n",
       "      <td>1</td>\n",
       "      <td>1</td>\n",
       "      <td>0</td>\n",
       "      <td>0</td>\n",
       "    </tr>\n",
       "    <tr>\n",
       "      <th>1432</th>\n",
       "      <td>1432</td>\n",
       "      <td>197167224</td>\n",
       "      <td>0.581383</td>\n",
       "      <td>.4741154909134</td>\n",
       "      <td></td>\n",
       "      <td>SCAN</td>\n",
       "      <td>2</td>\n",
       "      <td>15-JAN-2019</td>\n",
       "      <td>4</td>\n",
       "      <td>6</td>\n",
       "      <td>...</td>\n",
       "      <td>0</td>\n",
       "      <td>0</td>\n",
       "      <td>1</td>\n",
       "      <td>0</td>\n",
       "      <td>1</td>\n",
       "      <td>0</td>\n",
       "      <td>0</td>\n",
       "      <td>1</td>\n",
       "      <td>0</td>\n",
       "      <td>0</td>\n",
       "    </tr>\n",
       "    <tr>\n",
       "      <th>1433</th>\n",
       "      <td>1433</td>\n",
       "      <td>197168195</td>\n",
       "      <td>2.584832</td>\n",
       "      <td>2.1079211235046</td>\n",
       "      <td></td>\n",
       "      <td>WEB</td>\n",
       "      <td>2</td>\n",
       "      <td>13-DEC-2018</td>\n",
       "      <td>1</td>\n",
       "      <td>6</td>\n",
       "      <td>...</td>\n",
       "      <td>0</td>\n",
       "      <td>0</td>\n",
       "      <td>1</td>\n",
       "      <td>1</td>\n",
       "      <td>1</td>\n",
       "      <td>1</td>\n",
       "      <td>0</td>\n",
       "      <td>1</td>\n",
       "      <td>0</td>\n",
       "      <td>0</td>\n",
       "    </tr>\n",
       "    <tr>\n",
       "      <th>1434</th>\n",
       "      <td>1434</td>\n",
       "      <td>197169207</td>\n",
       "      <td>0.545099</td>\n",
       "      <td>.4445266127586</td>\n",
       "      <td></td>\n",
       "      <td>WEB</td>\n",
       "      <td>2</td>\n",
       "      <td>08-DEC-2018</td>\n",
       "      <td>4</td>\n",
       "      <td>6</td>\n",
       "      <td>...</td>\n",
       "      <td>0</td>\n",
       "      <td>0</td>\n",
       "      <td>0</td>\n",
       "      <td>0</td>\n",
       "      <td>0</td>\n",
       "      <td>0</td>\n",
       "      <td>0</td>\n",
       "      <td>0</td>\n",
       "      <td>0</td>\n",
       "      <td>0</td>\n",
       "    </tr>\n",
       "    <tr>\n",
       "      <th>1435</th>\n",
       "      <td>1435</td>\n",
       "      <td>197169232</td>\n",
       "      <td>1.580057</td>\n",
       "      <td>1.2885310649872</td>\n",
       "      <td></td>\n",
       "      <td>SCAN</td>\n",
       "      <td>2</td>\n",
       "      <td>04-JAN-2019</td>\n",
       "      <td>1</td>\n",
       "      <td>2</td>\n",
       "      <td>...</td>\n",
       "      <td>0</td>\n",
       "      <td>0</td>\n",
       "      <td>1</td>\n",
       "      <td>0</td>\n",
       "      <td>1</td>\n",
       "      <td>1</td>\n",
       "      <td>1</td>\n",
       "      <td>0</td>\n",
       "      <td>0</td>\n",
       "      <td>0</td>\n",
       "    </tr>\n",
       "  </tbody>\n",
       "</table>\n",
       "<p>1436 rows × 613 columns</p>\n",
       "</div>"
      ],
      "text/plain": [
       "      Unnamed: 0    STUDYID  WEIGHT_CISGENDER_TRANSPOP WEIGHT_CISGENDER  \\\n",
       "0              0  151768927                   0.022039                    \n",
       "1              1  152357242                   0.008485                    \n",
       "2              2  152444055                   0.015764                    \n",
       "3              3  152525272                   0.035655                    \n",
       "4              4  152894493                   0.041802                    \n",
       "...          ...        ...                        ...              ...   \n",
       "1431        1431  197167223                   6.299798  5.1374626159668   \n",
       "1432        1432  197167224                   0.581383   .4741154909134   \n",
       "1433        1433  197168195                   2.584832  2.1079211235046   \n",
       "1434        1434  197169207                   0.545099   .4445266127586   \n",
       "1435        1435  197169232                   1.580057  1.2885310649872   \n",
       "\n",
       "      WEIGHT_TRANSPOP GMETHOD_TYPE  SURVEYCOMPLETED GRESPONDENT_DATE GCENREG  \\\n",
       "0      .9861429333687                             0      26-APR-2016       1   \n",
       "1      .3796825110912                             0      07-APR-2016       3   \n",
       "2       .705381155014                             0      01-MAY-2016       3   \n",
       "3     1.5953975915909                             0      20-APR-2016       4   \n",
       "4      1.870422244072                             0      05-MAY-2016       2   \n",
       "...               ...          ...              ...              ...     ...   \n",
       "1431                          SCAN                2      27-DEC-2018       4   \n",
       "1432                          SCAN                2      15-JAN-2019       4   \n",
       "1433                           WEB                2      13-DEC-2018       1   \n",
       "1434                           WEB                2      08-DEC-2018       4   \n",
       "1435                          SCAN                2      04-JAN-2019       1   \n",
       "\n",
       "      RACE  ...  ACE_SEP  ACE_INC ACE_EMO_I ACE_PHY_I ACE_SEX_I  ACE_IPV_I  \\\n",
       "0        6  ...        0        0         1         0         0          0   \n",
       "1        6  ...        0        0         0         0         0          0   \n",
       "2        6  ...        0        0         0         0         0          0   \n",
       "3        6  ...        1        1         1         0         0          1   \n",
       "4        8  ...        0        0         1         0         0          0   \n",
       "...    ...  ...      ...      ...       ...       ...       ...        ...   \n",
       "1431     3  ...        0        0         1         1         0          1   \n",
       "1432     6  ...        0        0         1         0         1          0   \n",
       "1433     6  ...        0        0         1         1         1          1   \n",
       "1434     6  ...        0        0         0         0         0          0   \n",
       "1435     2  ...        0        0         1         0         1          1   \n",
       "\n",
       "     ACE_SUB_I  ACE_MEN_I ACE_SEP_I ACE_INC_I  \n",
       "0            0          0         0         0  \n",
       "1            0          1         0         0  \n",
       "2            0          1         0         0  \n",
       "3            1          1         1         1  \n",
       "4            0          0         0         0  \n",
       "...        ...        ...       ...       ...  \n",
       "1431         1          1         0         0  \n",
       "1432         0          1         0         0  \n",
       "1433         0          1         0         0  \n",
       "1434         0          0         0         0  \n",
       "1435         1          0         0         0  \n",
       "\n",
       "[1436 rows x 613 columns]"
      ]
     },
     "execution_count": 6,
     "metadata": {},
     "output_type": "execute_result"
    }
   ],
   "source": [
    "combined = pd.read_csv('data/combined.csv')\n",
    "combined"
   ]
  },
  {
   "cell_type": "code",
   "execution_count": 34,
   "id": "214cbf41",
   "metadata": {},
   "outputs": [
    {
     "data": {
      "text/plain": [
       "2    1162\n",
       "1     274\n",
       "Name: TRANS_CIS, dtype: int64"
      ]
     },
     "execution_count": 34,
     "metadata": {},
     "output_type": "execute_result"
    }
   ],
   "source": [
    "combined['trans_cis'.upper()].value_counts()"
   ]
  },
  {
   "cell_type": "markdown",
   "id": "40c854a4",
   "metadata": {},
   "source": [
    "# Violence and Discrimination\n",
    "\n",
    "whether transgenders are more likely to encounter violence than cisgenders)\n",
    "- Bullying (Q189, 190, p.15)\n",
    "- Victimization and Discrimination (Q162- Q168, p.12)\n",
    "- Household intimate partner violence: (TransPop: Q183)\n",
    "- Adverse Childhood Experiences (Q178-Q188)\n",
    "    - ace, ace_emo, ace_phy, ace_sex, ace_ipv, ace_men\n",
    "- Everyday discrimination (TransPop: Q171.a - ii and Cisgender: Q121.a - i, p.14)\n"
   ]
  },
  {
   "cell_type": "markdown",
   "id": "f59af403",
   "metadata": {},
   "source": [
    "### Bullying Data Dictionary\n",
    "\n",
    "- Q189: How often, if ever, were you bullied before you were 18 years old?\n",
    "- Q190_: When you were bullied before you were 18 years old, would you say it was because of your...\n",
    "    - 1: Age\n",
    "    - 2: Sex (being female or male)\n",
    "    - 3: Being transgender\n",
    "    - 4: Gender expression or appearance\n",
    "    - 5: Race/ethnicity\n",
    "    - 6: Income level or education\n",
    "    - 7: Sexual orientation\n",
    "    - 8: Physical appearance (e.g. weight, height)\n",
    "    - 9: Religion/spirituality\n",
    "    - 10: Disability"
   ]
  },
  {
   "cell_type": "code",
   "execution_count": 35,
   "id": "5bb5d95f",
   "metadata": {},
   "outputs": [],
   "source": [
    "bullying_col = ['Q189'] + [col for col in combined.columns if 'Q190_' in col]\n",
    "bullying = combined[['TRANS_CIS'] + bullying_col]"
   ]
  },
  {
   "cell_type": "code",
   "execution_count": 36,
   "id": "df65b77b",
   "metadata": {},
   "outputs": [
    {
     "data": {
      "text/plain": [
       "2    390\n",
       "4    369\n",
       "3    350\n",
       "1    279\n",
       "      48\n",
       "Name: Q189, dtype: int64"
      ]
     },
     "execution_count": 36,
     "metadata": {},
     "output_type": "execute_result"
    }
   ],
   "source": [
    "bullying['Q189'].value_counts()"
   ]
  },
  {
   "cell_type": "code",
   "execution_count": 37,
   "id": "d5e5dfe1",
   "metadata": {},
   "outputs": [
    {
     "data": {
      "text/plain": [
       "     985\n",
       "7    417\n",
       "3     34\n",
       "Name: Q190_3, dtype: int64"
      ]
     },
     "execution_count": 37,
     "metadata": {},
     "output_type": "execute_result"
    }
   ],
   "source": [
    "bullying['Q190_3'].value_counts()"
   ]
  },
  {
   "cell_type": "code",
   "execution_count": 67,
   "id": "eb46edeb",
   "metadata": {},
   "outputs": [
    {
     "data": {
      "text/html": [
       "<div>\n",
       "<style scoped>\n",
       "    .dataframe tbody tr th:only-of-type {\n",
       "        vertical-align: middle;\n",
       "    }\n",
       "\n",
       "    .dataframe tbody tr th {\n",
       "        vertical-align: top;\n",
       "    }\n",
       "\n",
       "    .dataframe thead th {\n",
       "        text-align: right;\n",
       "    }\n",
       "</style>\n",
       "<table border=\"1\" class=\"dataframe\">\n",
       "  <thead>\n",
       "    <tr style=\"text-align: right;\">\n",
       "      <th></th>\n",
       "      <th>TRANS_CIS</th>\n",
       "      <th>Q189</th>\n",
       "      <th>count</th>\n",
       "    </tr>\n",
       "  </thead>\n",
       "  <tbody>\n",
       "    <tr>\n",
       "      <th>0</th>\n",
       "      <td>1</td>\n",
       "      <td></td>\n",
       "      <td>3</td>\n",
       "    </tr>\n",
       "    <tr>\n",
       "      <th>1</th>\n",
       "      <td>1</td>\n",
       "      <td>1</td>\n",
       "      <td>123</td>\n",
       "    </tr>\n",
       "    <tr>\n",
       "      <th>2</th>\n",
       "      <td>1</td>\n",
       "      <td>2</td>\n",
       "      <td>65</td>\n",
       "    </tr>\n",
       "    <tr>\n",
       "      <th>3</th>\n",
       "      <td>1</td>\n",
       "      <td>3</td>\n",
       "      <td>50</td>\n",
       "    </tr>\n",
       "    <tr>\n",
       "      <th>4</th>\n",
       "      <td>1</td>\n",
       "      <td>4</td>\n",
       "      <td>33</td>\n",
       "    </tr>\n",
       "    <tr>\n",
       "      <th>5</th>\n",
       "      <td>2</td>\n",
       "      <td></td>\n",
       "      <td>45</td>\n",
       "    </tr>\n",
       "    <tr>\n",
       "      <th>6</th>\n",
       "      <td>2</td>\n",
       "      <td>1</td>\n",
       "      <td>156</td>\n",
       "    </tr>\n",
       "    <tr>\n",
       "      <th>7</th>\n",
       "      <td>2</td>\n",
       "      <td>2</td>\n",
       "      <td>325</td>\n",
       "    </tr>\n",
       "    <tr>\n",
       "      <th>8</th>\n",
       "      <td>2</td>\n",
       "      <td>3</td>\n",
       "      <td>300</td>\n",
       "    </tr>\n",
       "    <tr>\n",
       "      <th>9</th>\n",
       "      <td>2</td>\n",
       "      <td>4</td>\n",
       "      <td>336</td>\n",
       "    </tr>\n",
       "  </tbody>\n",
       "</table>\n",
       "</div>"
      ],
      "text/plain": [
       "   TRANS_CIS Q189  count\n",
       "0          1           3\n",
       "1          1    1    123\n",
       "2          1    2     65\n",
       "3          1    3     50\n",
       "4          1    4     33\n",
       "5          2          45\n",
       "6          2    1    156\n",
       "7          2    2    325\n",
       "8          2    3    300\n",
       "9          2    4    336"
      ]
     },
     "execution_count": 67,
     "metadata": {},
     "output_type": "execute_result"
    }
   ],
   "source": [
    "q189 = (\n",
    "    bullying\n",
    "    .groupby(['TRANS_CIS', 'Q189'])\n",
    "    .count()[['Q190_1']]\n",
    "    .rename(columns={'Q190_1': 'count'})\n",
    "    .reset_index()\n",
    ")\n",
    "q189"
   ]
  },
  {
   "cell_type": "code",
   "execution_count": 70,
   "id": "2a24dea7",
   "metadata": {},
   "outputs": [
    {
     "data": {
      "text/plain": [
       "'1'"
      ]
     },
     "execution_count": 70,
     "metadata": {},
     "output_type": "execute_result"
    }
   ],
   "source": [
    "q189['Q189'].iloc[1]"
   ]
  },
  {
   "cell_type": "code",
   "execution_count": 71,
   "id": "599ab5ca",
   "metadata": {},
   "outputs": [
    {
     "data": {
      "text/html": [
       "<div>\n",
       "<style scoped>\n",
       "    .dataframe tbody tr th:only-of-type {\n",
       "        vertical-align: middle;\n",
       "    }\n",
       "\n",
       "    .dataframe tbody tr th {\n",
       "        vertical-align: top;\n",
       "    }\n",
       "\n",
       "    .dataframe thead th {\n",
       "        text-align: right;\n",
       "    }\n",
       "</style>\n",
       "<table border=\"1\" class=\"dataframe\">\n",
       "  <thead>\n",
       "    <tr style=\"text-align: right;\">\n",
       "      <th></th>\n",
       "      <th>TRANS_CIS</th>\n",
       "      <th>Q189</th>\n",
       "      <th>count</th>\n",
       "    </tr>\n",
       "  </thead>\n",
       "  <tbody>\n",
       "    <tr>\n",
       "      <th>0</th>\n",
       "      <td>Trans</td>\n",
       "      <td>NaN</td>\n",
       "      <td>3</td>\n",
       "    </tr>\n",
       "    <tr>\n",
       "      <th>1</th>\n",
       "      <td>Trans</td>\n",
       "      <td>Often</td>\n",
       "      <td>123</td>\n",
       "    </tr>\n",
       "    <tr>\n",
       "      <th>2</th>\n",
       "      <td>Trans</td>\n",
       "      <td>Sometimes</td>\n",
       "      <td>65</td>\n",
       "    </tr>\n",
       "    <tr>\n",
       "      <th>3</th>\n",
       "      <td>Trans</td>\n",
       "      <td>Rarely</td>\n",
       "      <td>50</td>\n",
       "    </tr>\n",
       "    <tr>\n",
       "      <th>4</th>\n",
       "      <td>Trans</td>\n",
       "      <td>Never</td>\n",
       "      <td>33</td>\n",
       "    </tr>\n",
       "    <tr>\n",
       "      <th>5</th>\n",
       "      <td>Cis</td>\n",
       "      <td>NaN</td>\n",
       "      <td>45</td>\n",
       "    </tr>\n",
       "    <tr>\n",
       "      <th>6</th>\n",
       "      <td>Cis</td>\n",
       "      <td>Often</td>\n",
       "      <td>156</td>\n",
       "    </tr>\n",
       "    <tr>\n",
       "      <th>7</th>\n",
       "      <td>Cis</td>\n",
       "      <td>Sometimes</td>\n",
       "      <td>325</td>\n",
       "    </tr>\n",
       "    <tr>\n",
       "      <th>8</th>\n",
       "      <td>Cis</td>\n",
       "      <td>Rarely</td>\n",
       "      <td>300</td>\n",
       "    </tr>\n",
       "    <tr>\n",
       "      <th>9</th>\n",
       "      <td>Cis</td>\n",
       "      <td>Never</td>\n",
       "      <td>336</td>\n",
       "    </tr>\n",
       "  </tbody>\n",
       "</table>\n",
       "</div>"
      ],
      "text/plain": [
       "  TRANS_CIS       Q189  count\n",
       "0     Trans        NaN      3\n",
       "1     Trans      Often    123\n",
       "2     Trans  Sometimes     65\n",
       "3     Trans     Rarely     50\n",
       "4     Trans      Never     33\n",
       "5       Cis        NaN     45\n",
       "6       Cis      Often    156\n",
       "7       Cis  Sometimes    325\n",
       "8       Cis     Rarely    300\n",
       "9       Cis      Never    336"
      ]
     },
     "execution_count": 71,
     "metadata": {},
     "output_type": "execute_result"
    }
   ],
   "source": [
    "q189['TRANS_CIS'] = q189['TRANS_CIS'].map({1: 'Trans', 2: 'Cis'})\n",
    "q189['Q189'] = q189['Q189'].map({'1': 'Often', '2': 'Sometimes', '3': 'Rarely', '4': 'Never'})\n",
    "q189"
   ]
  },
  {
   "cell_type": "code",
   "execution_count": 74,
   "id": "913e1e72",
   "metadata": {},
   "outputs": [
    {
     "data": {
      "application/vnd.plotly.v1+json": {
       "config": {
        "plotlyServerURL": "https://plot.ly"
       },
       "data": [
        {
         "alignmentgroup": "True",
         "hovertemplate": "TRANS_CIS=Trans<br>Q189=%{x}<br>count=%{y}<extra></extra>",
         "legendgroup": "Trans",
         "marker": {
          "color": "#03d7fc",
          "pattern": {
           "shape": ""
          }
         },
         "name": "Trans",
         "offsetgroup": "Trans",
         "orientation": "v",
         "showlegend": true,
         "textposition": "auto",
         "type": "bar",
         "x": [
          null,
          "Often",
          "Sometimes",
          "Rarely",
          "Never"
         ],
         "xaxis": "x",
         "y": [
          3,
          123,
          65,
          50,
          33
         ],
         "yaxis": "y"
        },
        {
         "alignmentgroup": "True",
         "hovertemplate": "TRANS_CIS=Cis<br>Q189=%{x}<br>count=%{y}<extra></extra>",
         "legendgroup": "Cis",
         "marker": {
          "color": "#fca2bb",
          "pattern": {
           "shape": ""
          }
         },
         "name": "Cis",
         "offsetgroup": "Cis",
         "orientation": "v",
         "showlegend": true,
         "textposition": "auto",
         "type": "bar",
         "x": [
          null,
          "Often",
          "Sometimes",
          "Rarely",
          "Never"
         ],
         "xaxis": "x",
         "y": [
          45,
          156,
          325,
          300,
          336
         ],
         "yaxis": "y"
        }
       ],
       "layout": {
        "barmode": "group",
        "legend": {
         "title": {
          "text": "TRANS_CIS"
         },
         "tracegroupgap": 0
        },
        "template": {
         "data": {
          "bar": [
           {
            "error_x": {
             "color": "#2a3f5f"
            },
            "error_y": {
             "color": "#2a3f5f"
            },
            "marker": {
             "line": {
              "color": "#E5ECF6",
              "width": 0.5
             },
             "pattern": {
              "fillmode": "overlay",
              "size": 10,
              "solidity": 0.2
             }
            },
            "type": "bar"
           }
          ],
          "barpolar": [
           {
            "marker": {
             "line": {
              "color": "#E5ECF6",
              "width": 0.5
             },
             "pattern": {
              "fillmode": "overlay",
              "size": 10,
              "solidity": 0.2
             }
            },
            "type": "barpolar"
           }
          ],
          "carpet": [
           {
            "aaxis": {
             "endlinecolor": "#2a3f5f",
             "gridcolor": "white",
             "linecolor": "white",
             "minorgridcolor": "white",
             "startlinecolor": "#2a3f5f"
            },
            "baxis": {
             "endlinecolor": "#2a3f5f",
             "gridcolor": "white",
             "linecolor": "white",
             "minorgridcolor": "white",
             "startlinecolor": "#2a3f5f"
            },
            "type": "carpet"
           }
          ],
          "choropleth": [
           {
            "colorbar": {
             "outlinewidth": 0,
             "ticks": ""
            },
            "type": "choropleth"
           }
          ],
          "contour": [
           {
            "colorbar": {
             "outlinewidth": 0,
             "ticks": ""
            },
            "colorscale": [
             [
              0,
              "#0d0887"
             ],
             [
              0.1111111111111111,
              "#46039f"
             ],
             [
              0.2222222222222222,
              "#7201a8"
             ],
             [
              0.3333333333333333,
              "#9c179e"
             ],
             [
              0.4444444444444444,
              "#bd3786"
             ],
             [
              0.5555555555555556,
              "#d8576b"
             ],
             [
              0.6666666666666666,
              "#ed7953"
             ],
             [
              0.7777777777777778,
              "#fb9f3a"
             ],
             [
              0.8888888888888888,
              "#fdca26"
             ],
             [
              1,
              "#f0f921"
             ]
            ],
            "type": "contour"
           }
          ],
          "contourcarpet": [
           {
            "colorbar": {
             "outlinewidth": 0,
             "ticks": ""
            },
            "type": "contourcarpet"
           }
          ],
          "heatmap": [
           {
            "colorbar": {
             "outlinewidth": 0,
             "ticks": ""
            },
            "colorscale": [
             [
              0,
              "#0d0887"
             ],
             [
              0.1111111111111111,
              "#46039f"
             ],
             [
              0.2222222222222222,
              "#7201a8"
             ],
             [
              0.3333333333333333,
              "#9c179e"
             ],
             [
              0.4444444444444444,
              "#bd3786"
             ],
             [
              0.5555555555555556,
              "#d8576b"
             ],
             [
              0.6666666666666666,
              "#ed7953"
             ],
             [
              0.7777777777777778,
              "#fb9f3a"
             ],
             [
              0.8888888888888888,
              "#fdca26"
             ],
             [
              1,
              "#f0f921"
             ]
            ],
            "type": "heatmap"
           }
          ],
          "heatmapgl": [
           {
            "colorbar": {
             "outlinewidth": 0,
             "ticks": ""
            },
            "colorscale": [
             [
              0,
              "#0d0887"
             ],
             [
              0.1111111111111111,
              "#46039f"
             ],
             [
              0.2222222222222222,
              "#7201a8"
             ],
             [
              0.3333333333333333,
              "#9c179e"
             ],
             [
              0.4444444444444444,
              "#bd3786"
             ],
             [
              0.5555555555555556,
              "#d8576b"
             ],
             [
              0.6666666666666666,
              "#ed7953"
             ],
             [
              0.7777777777777778,
              "#fb9f3a"
             ],
             [
              0.8888888888888888,
              "#fdca26"
             ],
             [
              1,
              "#f0f921"
             ]
            ],
            "type": "heatmapgl"
           }
          ],
          "histogram": [
           {
            "marker": {
             "pattern": {
              "fillmode": "overlay",
              "size": 10,
              "solidity": 0.2
             }
            },
            "type": "histogram"
           }
          ],
          "histogram2d": [
           {
            "colorbar": {
             "outlinewidth": 0,
             "ticks": ""
            },
            "colorscale": [
             [
              0,
              "#0d0887"
             ],
             [
              0.1111111111111111,
              "#46039f"
             ],
             [
              0.2222222222222222,
              "#7201a8"
             ],
             [
              0.3333333333333333,
              "#9c179e"
             ],
             [
              0.4444444444444444,
              "#bd3786"
             ],
             [
              0.5555555555555556,
              "#d8576b"
             ],
             [
              0.6666666666666666,
              "#ed7953"
             ],
             [
              0.7777777777777778,
              "#fb9f3a"
             ],
             [
              0.8888888888888888,
              "#fdca26"
             ],
             [
              1,
              "#f0f921"
             ]
            ],
            "type": "histogram2d"
           }
          ],
          "histogram2dcontour": [
           {
            "colorbar": {
             "outlinewidth": 0,
             "ticks": ""
            },
            "colorscale": [
             [
              0,
              "#0d0887"
             ],
             [
              0.1111111111111111,
              "#46039f"
             ],
             [
              0.2222222222222222,
              "#7201a8"
             ],
             [
              0.3333333333333333,
              "#9c179e"
             ],
             [
              0.4444444444444444,
              "#bd3786"
             ],
             [
              0.5555555555555556,
              "#d8576b"
             ],
             [
              0.6666666666666666,
              "#ed7953"
             ],
             [
              0.7777777777777778,
              "#fb9f3a"
             ],
             [
              0.8888888888888888,
              "#fdca26"
             ],
             [
              1,
              "#f0f921"
             ]
            ],
            "type": "histogram2dcontour"
           }
          ],
          "mesh3d": [
           {
            "colorbar": {
             "outlinewidth": 0,
             "ticks": ""
            },
            "type": "mesh3d"
           }
          ],
          "parcoords": [
           {
            "line": {
             "colorbar": {
              "outlinewidth": 0,
              "ticks": ""
             }
            },
            "type": "parcoords"
           }
          ],
          "pie": [
           {
            "automargin": true,
            "type": "pie"
           }
          ],
          "scatter": [
           {
            "fillpattern": {
             "fillmode": "overlay",
             "size": 10,
             "solidity": 0.2
            },
            "type": "scatter"
           }
          ],
          "scatter3d": [
           {
            "line": {
             "colorbar": {
              "outlinewidth": 0,
              "ticks": ""
             }
            },
            "marker": {
             "colorbar": {
              "outlinewidth": 0,
              "ticks": ""
             }
            },
            "type": "scatter3d"
           }
          ],
          "scattercarpet": [
           {
            "marker": {
             "colorbar": {
              "outlinewidth": 0,
              "ticks": ""
             }
            },
            "type": "scattercarpet"
           }
          ],
          "scattergeo": [
           {
            "marker": {
             "colorbar": {
              "outlinewidth": 0,
              "ticks": ""
             }
            },
            "type": "scattergeo"
           }
          ],
          "scattergl": [
           {
            "marker": {
             "colorbar": {
              "outlinewidth": 0,
              "ticks": ""
             }
            },
            "type": "scattergl"
           }
          ],
          "scattermapbox": [
           {
            "marker": {
             "colorbar": {
              "outlinewidth": 0,
              "ticks": ""
             }
            },
            "type": "scattermapbox"
           }
          ],
          "scatterpolar": [
           {
            "marker": {
             "colorbar": {
              "outlinewidth": 0,
              "ticks": ""
             }
            },
            "type": "scatterpolar"
           }
          ],
          "scatterpolargl": [
           {
            "marker": {
             "colorbar": {
              "outlinewidth": 0,
              "ticks": ""
             }
            },
            "type": "scatterpolargl"
           }
          ],
          "scatterternary": [
           {
            "marker": {
             "colorbar": {
              "outlinewidth": 0,
              "ticks": ""
             }
            },
            "type": "scatterternary"
           }
          ],
          "surface": [
           {
            "colorbar": {
             "outlinewidth": 0,
             "ticks": ""
            },
            "colorscale": [
             [
              0,
              "#0d0887"
             ],
             [
              0.1111111111111111,
              "#46039f"
             ],
             [
              0.2222222222222222,
              "#7201a8"
             ],
             [
              0.3333333333333333,
              "#9c179e"
             ],
             [
              0.4444444444444444,
              "#bd3786"
             ],
             [
              0.5555555555555556,
              "#d8576b"
             ],
             [
              0.6666666666666666,
              "#ed7953"
             ],
             [
              0.7777777777777778,
              "#fb9f3a"
             ],
             [
              0.8888888888888888,
              "#fdca26"
             ],
             [
              1,
              "#f0f921"
             ]
            ],
            "type": "surface"
           }
          ],
          "table": [
           {
            "cells": {
             "fill": {
              "color": "#EBF0F8"
             },
             "line": {
              "color": "white"
             }
            },
            "header": {
             "fill": {
              "color": "#C8D4E3"
             },
             "line": {
              "color": "white"
             }
            },
            "type": "table"
           }
          ]
         },
         "layout": {
          "annotationdefaults": {
           "arrowcolor": "#2a3f5f",
           "arrowhead": 0,
           "arrowwidth": 1
          },
          "autotypenumbers": "strict",
          "coloraxis": {
           "colorbar": {
            "outlinewidth": 0,
            "ticks": ""
           }
          },
          "colorscale": {
           "diverging": [
            [
             0,
             "#8e0152"
            ],
            [
             0.1,
             "#c51b7d"
            ],
            [
             0.2,
             "#de77ae"
            ],
            [
             0.3,
             "#f1b6da"
            ],
            [
             0.4,
             "#fde0ef"
            ],
            [
             0.5,
             "#f7f7f7"
            ],
            [
             0.6,
             "#e6f5d0"
            ],
            [
             0.7,
             "#b8e186"
            ],
            [
             0.8,
             "#7fbc41"
            ],
            [
             0.9,
             "#4d9221"
            ],
            [
             1,
             "#276419"
            ]
           ],
           "sequential": [
            [
             0,
             "#0d0887"
            ],
            [
             0.1111111111111111,
             "#46039f"
            ],
            [
             0.2222222222222222,
             "#7201a8"
            ],
            [
             0.3333333333333333,
             "#9c179e"
            ],
            [
             0.4444444444444444,
             "#bd3786"
            ],
            [
             0.5555555555555556,
             "#d8576b"
            ],
            [
             0.6666666666666666,
             "#ed7953"
            ],
            [
             0.7777777777777778,
             "#fb9f3a"
            ],
            [
             0.8888888888888888,
             "#fdca26"
            ],
            [
             1,
             "#f0f921"
            ]
           ],
           "sequentialminus": [
            [
             0,
             "#0d0887"
            ],
            [
             0.1111111111111111,
             "#46039f"
            ],
            [
             0.2222222222222222,
             "#7201a8"
            ],
            [
             0.3333333333333333,
             "#9c179e"
            ],
            [
             0.4444444444444444,
             "#bd3786"
            ],
            [
             0.5555555555555556,
             "#d8576b"
            ],
            [
             0.6666666666666666,
             "#ed7953"
            ],
            [
             0.7777777777777778,
             "#fb9f3a"
            ],
            [
             0.8888888888888888,
             "#fdca26"
            ],
            [
             1,
             "#f0f921"
            ]
           ]
          },
          "colorway": [
           "#636efa",
           "#EF553B",
           "#00cc96",
           "#ab63fa",
           "#FFA15A",
           "#19d3f3",
           "#FF6692",
           "#B6E880",
           "#FF97FF",
           "#FECB52"
          ],
          "font": {
           "color": "#2a3f5f"
          },
          "geo": {
           "bgcolor": "white",
           "lakecolor": "white",
           "landcolor": "#E5ECF6",
           "showlakes": true,
           "showland": true,
           "subunitcolor": "white"
          },
          "hoverlabel": {
           "align": "left"
          },
          "hovermode": "closest",
          "mapbox": {
           "style": "light"
          },
          "paper_bgcolor": "white",
          "plot_bgcolor": "#E5ECF6",
          "polar": {
           "angularaxis": {
            "gridcolor": "white",
            "linecolor": "white",
            "ticks": ""
           },
           "bgcolor": "#E5ECF6",
           "radialaxis": {
            "gridcolor": "white",
            "linecolor": "white",
            "ticks": ""
           }
          },
          "scene": {
           "xaxis": {
            "backgroundcolor": "#E5ECF6",
            "gridcolor": "white",
            "gridwidth": 2,
            "linecolor": "white",
            "showbackground": true,
            "ticks": "",
            "zerolinecolor": "white"
           },
           "yaxis": {
            "backgroundcolor": "#E5ECF6",
            "gridcolor": "white",
            "gridwidth": 2,
            "linecolor": "white",
            "showbackground": true,
            "ticks": "",
            "zerolinecolor": "white"
           },
           "zaxis": {
            "backgroundcolor": "#E5ECF6",
            "gridcolor": "white",
            "gridwidth": 2,
            "linecolor": "white",
            "showbackground": true,
            "ticks": "",
            "zerolinecolor": "white"
           }
          },
          "shapedefaults": {
           "line": {
            "color": "#2a3f5f"
           }
          },
          "ternary": {
           "aaxis": {
            "gridcolor": "white",
            "linecolor": "white",
            "ticks": ""
           },
           "baxis": {
            "gridcolor": "white",
            "linecolor": "white",
            "ticks": ""
           },
           "bgcolor": "#E5ECF6",
           "caxis": {
            "gridcolor": "white",
            "linecolor": "white",
            "ticks": ""
           }
          },
          "title": {
           "x": 0.05
          },
          "xaxis": {
           "automargin": true,
           "gridcolor": "white",
           "linecolor": "white",
           "ticks": "",
           "title": {
            "standoff": 15
           },
           "zerolinecolor": "white",
           "zerolinewidth": 2
          },
          "yaxis": {
           "automargin": true,
           "gridcolor": "white",
           "linecolor": "white",
           "ticks": "",
           "title": {
            "standoff": 15
           },
           "zerolinecolor": "white",
           "zerolinewidth": 2
          }
         }
        },
        "title": {
         "text": "<b>Q189: How often, if ever, were you bullied before you were 18 years old?</b>"
        },
        "xaxis": {
         "anchor": "y",
         "domain": [
          0,
          1
         ],
         "title": {
          "text": "Q189"
         }
        },
        "yaxis": {
         "anchor": "x",
         "domain": [
          0,
          1
         ],
         "title": {
          "text": "count"
         }
        }
       }
      },
      "text/html": [
       "<div>                            <div id=\"2497d074-92ef-4c72-b23d-5e87b9f59b68\" class=\"plotly-graph-div\" style=\"height:525px; width:100%;\"></div>            <script type=\"text/javascript\">                require([\"plotly\"], function(Plotly) {                    window.PLOTLYENV=window.PLOTLYENV || {};                                    if (document.getElementById(\"2497d074-92ef-4c72-b23d-5e87b9f59b68\")) {                    Plotly.newPlot(                        \"2497d074-92ef-4c72-b23d-5e87b9f59b68\",                        [{\"alignmentgroup\":\"True\",\"hovertemplate\":\"TRANS_CIS=Trans<br>Q189=%{x}<br>count=%{y}<extra></extra>\",\"legendgroup\":\"Trans\",\"marker\":{\"color\":\"#03d7fc\",\"pattern\":{\"shape\":\"\"}},\"name\":\"Trans\",\"offsetgroup\":\"Trans\",\"orientation\":\"v\",\"showlegend\":true,\"textposition\":\"auto\",\"x\":[null,\"Often\",\"Sometimes\",\"Rarely\",\"Never\"],\"xaxis\":\"x\",\"y\":[3,123,65,50,33],\"yaxis\":\"y\",\"type\":\"bar\"},{\"alignmentgroup\":\"True\",\"hovertemplate\":\"TRANS_CIS=Cis<br>Q189=%{x}<br>count=%{y}<extra></extra>\",\"legendgroup\":\"Cis\",\"marker\":{\"color\":\"#fca2bb\",\"pattern\":{\"shape\":\"\"}},\"name\":\"Cis\",\"offsetgroup\":\"Cis\",\"orientation\":\"v\",\"showlegend\":true,\"textposition\":\"auto\",\"x\":[null,\"Often\",\"Sometimes\",\"Rarely\",\"Never\"],\"xaxis\":\"x\",\"y\":[45,156,325,300,336],\"yaxis\":\"y\",\"type\":\"bar\"}],                        {\"template\":{\"data\":{\"histogram2dcontour\":[{\"type\":\"histogram2dcontour\",\"colorbar\":{\"outlinewidth\":0,\"ticks\":\"\"},\"colorscale\":[[0.0,\"#0d0887\"],[0.1111111111111111,\"#46039f\"],[0.2222222222222222,\"#7201a8\"],[0.3333333333333333,\"#9c179e\"],[0.4444444444444444,\"#bd3786\"],[0.5555555555555556,\"#d8576b\"],[0.6666666666666666,\"#ed7953\"],[0.7777777777777778,\"#fb9f3a\"],[0.8888888888888888,\"#fdca26\"],[1.0,\"#f0f921\"]]}],\"choropleth\":[{\"type\":\"choropleth\",\"colorbar\":{\"outlinewidth\":0,\"ticks\":\"\"}}],\"histogram2d\":[{\"type\":\"histogram2d\",\"colorbar\":{\"outlinewidth\":0,\"ticks\":\"\"},\"colorscale\":[[0.0,\"#0d0887\"],[0.1111111111111111,\"#46039f\"],[0.2222222222222222,\"#7201a8\"],[0.3333333333333333,\"#9c179e\"],[0.4444444444444444,\"#bd3786\"],[0.5555555555555556,\"#d8576b\"],[0.6666666666666666,\"#ed7953\"],[0.7777777777777778,\"#fb9f3a\"],[0.8888888888888888,\"#fdca26\"],[1.0,\"#f0f921\"]]}],\"heatmap\":[{\"type\":\"heatmap\",\"colorbar\":{\"outlinewidth\":0,\"ticks\":\"\"},\"colorscale\":[[0.0,\"#0d0887\"],[0.1111111111111111,\"#46039f\"],[0.2222222222222222,\"#7201a8\"],[0.3333333333333333,\"#9c179e\"],[0.4444444444444444,\"#bd3786\"],[0.5555555555555556,\"#d8576b\"],[0.6666666666666666,\"#ed7953\"],[0.7777777777777778,\"#fb9f3a\"],[0.8888888888888888,\"#fdca26\"],[1.0,\"#f0f921\"]]}],\"heatmapgl\":[{\"type\":\"heatmapgl\",\"colorbar\":{\"outlinewidth\":0,\"ticks\":\"\"},\"colorscale\":[[0.0,\"#0d0887\"],[0.1111111111111111,\"#46039f\"],[0.2222222222222222,\"#7201a8\"],[0.3333333333333333,\"#9c179e\"],[0.4444444444444444,\"#bd3786\"],[0.5555555555555556,\"#d8576b\"],[0.6666666666666666,\"#ed7953\"],[0.7777777777777778,\"#fb9f3a\"],[0.8888888888888888,\"#fdca26\"],[1.0,\"#f0f921\"]]}],\"contourcarpet\":[{\"type\":\"contourcarpet\",\"colorbar\":{\"outlinewidth\":0,\"ticks\":\"\"}}],\"contour\":[{\"type\":\"contour\",\"colorbar\":{\"outlinewidth\":0,\"ticks\":\"\"},\"colorscale\":[[0.0,\"#0d0887\"],[0.1111111111111111,\"#46039f\"],[0.2222222222222222,\"#7201a8\"],[0.3333333333333333,\"#9c179e\"],[0.4444444444444444,\"#bd3786\"],[0.5555555555555556,\"#d8576b\"],[0.6666666666666666,\"#ed7953\"],[0.7777777777777778,\"#fb9f3a\"],[0.8888888888888888,\"#fdca26\"],[1.0,\"#f0f921\"]]}],\"surface\":[{\"type\":\"surface\",\"colorbar\":{\"outlinewidth\":0,\"ticks\":\"\"},\"colorscale\":[[0.0,\"#0d0887\"],[0.1111111111111111,\"#46039f\"],[0.2222222222222222,\"#7201a8\"],[0.3333333333333333,\"#9c179e\"],[0.4444444444444444,\"#bd3786\"],[0.5555555555555556,\"#d8576b\"],[0.6666666666666666,\"#ed7953\"],[0.7777777777777778,\"#fb9f3a\"],[0.8888888888888888,\"#fdca26\"],[1.0,\"#f0f921\"]]}],\"mesh3d\":[{\"type\":\"mesh3d\",\"colorbar\":{\"outlinewidth\":0,\"ticks\":\"\"}}],\"scatter\":[{\"fillpattern\":{\"fillmode\":\"overlay\",\"size\":10,\"solidity\":0.2},\"type\":\"scatter\"}],\"parcoords\":[{\"type\":\"parcoords\",\"line\":{\"colorbar\":{\"outlinewidth\":0,\"ticks\":\"\"}}}],\"scatterpolargl\":[{\"type\":\"scatterpolargl\",\"marker\":{\"colorbar\":{\"outlinewidth\":0,\"ticks\":\"\"}}}],\"bar\":[{\"error_x\":{\"color\":\"#2a3f5f\"},\"error_y\":{\"color\":\"#2a3f5f\"},\"marker\":{\"line\":{\"color\":\"#E5ECF6\",\"width\":0.5},\"pattern\":{\"fillmode\":\"overlay\",\"size\":10,\"solidity\":0.2}},\"type\":\"bar\"}],\"scattergeo\":[{\"type\":\"scattergeo\",\"marker\":{\"colorbar\":{\"outlinewidth\":0,\"ticks\":\"\"}}}],\"scatterpolar\":[{\"type\":\"scatterpolar\",\"marker\":{\"colorbar\":{\"outlinewidth\":0,\"ticks\":\"\"}}}],\"histogram\":[{\"marker\":{\"pattern\":{\"fillmode\":\"overlay\",\"size\":10,\"solidity\":0.2}},\"type\":\"histogram\"}],\"scattergl\":[{\"type\":\"scattergl\",\"marker\":{\"colorbar\":{\"outlinewidth\":0,\"ticks\":\"\"}}}],\"scatter3d\":[{\"type\":\"scatter3d\",\"line\":{\"colorbar\":{\"outlinewidth\":0,\"ticks\":\"\"}},\"marker\":{\"colorbar\":{\"outlinewidth\":0,\"ticks\":\"\"}}}],\"scattermapbox\":[{\"type\":\"scattermapbox\",\"marker\":{\"colorbar\":{\"outlinewidth\":0,\"ticks\":\"\"}}}],\"scatterternary\":[{\"type\":\"scatterternary\",\"marker\":{\"colorbar\":{\"outlinewidth\":0,\"ticks\":\"\"}}}],\"scattercarpet\":[{\"type\":\"scattercarpet\",\"marker\":{\"colorbar\":{\"outlinewidth\":0,\"ticks\":\"\"}}}],\"carpet\":[{\"aaxis\":{\"endlinecolor\":\"#2a3f5f\",\"gridcolor\":\"white\",\"linecolor\":\"white\",\"minorgridcolor\":\"white\",\"startlinecolor\":\"#2a3f5f\"},\"baxis\":{\"endlinecolor\":\"#2a3f5f\",\"gridcolor\":\"white\",\"linecolor\":\"white\",\"minorgridcolor\":\"white\",\"startlinecolor\":\"#2a3f5f\"},\"type\":\"carpet\"}],\"table\":[{\"cells\":{\"fill\":{\"color\":\"#EBF0F8\"},\"line\":{\"color\":\"white\"}},\"header\":{\"fill\":{\"color\":\"#C8D4E3\"},\"line\":{\"color\":\"white\"}},\"type\":\"table\"}],\"barpolar\":[{\"marker\":{\"line\":{\"color\":\"#E5ECF6\",\"width\":0.5},\"pattern\":{\"fillmode\":\"overlay\",\"size\":10,\"solidity\":0.2}},\"type\":\"barpolar\"}],\"pie\":[{\"automargin\":true,\"type\":\"pie\"}]},\"layout\":{\"autotypenumbers\":\"strict\",\"colorway\":[\"#636efa\",\"#EF553B\",\"#00cc96\",\"#ab63fa\",\"#FFA15A\",\"#19d3f3\",\"#FF6692\",\"#B6E880\",\"#FF97FF\",\"#FECB52\"],\"font\":{\"color\":\"#2a3f5f\"},\"hovermode\":\"closest\",\"hoverlabel\":{\"align\":\"left\"},\"paper_bgcolor\":\"white\",\"plot_bgcolor\":\"#E5ECF6\",\"polar\":{\"bgcolor\":\"#E5ECF6\",\"angularaxis\":{\"gridcolor\":\"white\",\"linecolor\":\"white\",\"ticks\":\"\"},\"radialaxis\":{\"gridcolor\":\"white\",\"linecolor\":\"white\",\"ticks\":\"\"}},\"ternary\":{\"bgcolor\":\"#E5ECF6\",\"aaxis\":{\"gridcolor\":\"white\",\"linecolor\":\"white\",\"ticks\":\"\"},\"baxis\":{\"gridcolor\":\"white\",\"linecolor\":\"white\",\"ticks\":\"\"},\"caxis\":{\"gridcolor\":\"white\",\"linecolor\":\"white\",\"ticks\":\"\"}},\"coloraxis\":{\"colorbar\":{\"outlinewidth\":0,\"ticks\":\"\"}},\"colorscale\":{\"sequential\":[[0.0,\"#0d0887\"],[0.1111111111111111,\"#46039f\"],[0.2222222222222222,\"#7201a8\"],[0.3333333333333333,\"#9c179e\"],[0.4444444444444444,\"#bd3786\"],[0.5555555555555556,\"#d8576b\"],[0.6666666666666666,\"#ed7953\"],[0.7777777777777778,\"#fb9f3a\"],[0.8888888888888888,\"#fdca26\"],[1.0,\"#f0f921\"]],\"sequentialminus\":[[0.0,\"#0d0887\"],[0.1111111111111111,\"#46039f\"],[0.2222222222222222,\"#7201a8\"],[0.3333333333333333,\"#9c179e\"],[0.4444444444444444,\"#bd3786\"],[0.5555555555555556,\"#d8576b\"],[0.6666666666666666,\"#ed7953\"],[0.7777777777777778,\"#fb9f3a\"],[0.8888888888888888,\"#fdca26\"],[1.0,\"#f0f921\"]],\"diverging\":[[0,\"#8e0152\"],[0.1,\"#c51b7d\"],[0.2,\"#de77ae\"],[0.3,\"#f1b6da\"],[0.4,\"#fde0ef\"],[0.5,\"#f7f7f7\"],[0.6,\"#e6f5d0\"],[0.7,\"#b8e186\"],[0.8,\"#7fbc41\"],[0.9,\"#4d9221\"],[1,\"#276419\"]]},\"xaxis\":{\"gridcolor\":\"white\",\"linecolor\":\"white\",\"ticks\":\"\",\"title\":{\"standoff\":15},\"zerolinecolor\":\"white\",\"automargin\":true,\"zerolinewidth\":2},\"yaxis\":{\"gridcolor\":\"white\",\"linecolor\":\"white\",\"ticks\":\"\",\"title\":{\"standoff\":15},\"zerolinecolor\":\"white\",\"automargin\":true,\"zerolinewidth\":2},\"scene\":{\"xaxis\":{\"backgroundcolor\":\"#E5ECF6\",\"gridcolor\":\"white\",\"linecolor\":\"white\",\"showbackground\":true,\"ticks\":\"\",\"zerolinecolor\":\"white\",\"gridwidth\":2},\"yaxis\":{\"backgroundcolor\":\"#E5ECF6\",\"gridcolor\":\"white\",\"linecolor\":\"white\",\"showbackground\":true,\"ticks\":\"\",\"zerolinecolor\":\"white\",\"gridwidth\":2},\"zaxis\":{\"backgroundcolor\":\"#E5ECF6\",\"gridcolor\":\"white\",\"linecolor\":\"white\",\"showbackground\":true,\"ticks\":\"\",\"zerolinecolor\":\"white\",\"gridwidth\":2}},\"shapedefaults\":{\"line\":{\"color\":\"#2a3f5f\"}},\"annotationdefaults\":{\"arrowcolor\":\"#2a3f5f\",\"arrowhead\":0,\"arrowwidth\":1},\"geo\":{\"bgcolor\":\"white\",\"landcolor\":\"#E5ECF6\",\"subunitcolor\":\"white\",\"showland\":true,\"showlakes\":true,\"lakecolor\":\"white\"},\"title\":{\"x\":0.05},\"mapbox\":{\"style\":\"light\"}}},\"xaxis\":{\"anchor\":\"y\",\"domain\":[0.0,1.0],\"title\":{\"text\":\"Q189\"}},\"yaxis\":{\"anchor\":\"x\",\"domain\":[0.0,1.0],\"title\":{\"text\":\"count\"}},\"legend\":{\"title\":{\"text\":\"TRANS_CIS\"},\"tracegroupgap\":0},\"title\":{\"text\":\"<b>Q189: How often, if ever, were you bullied before you were 18 years old?</b>\"},\"barmode\":\"group\"},                        {\"responsive\": true}                    ).then(function(){\n",
       "                            \n",
       "var gd = document.getElementById('2497d074-92ef-4c72-b23d-5e87b9f59b68');\n",
       "var x = new MutationObserver(function (mutations, observer) {{\n",
       "        var display = window.getComputedStyle(gd).display;\n",
       "        if (!display || display === 'none') {{\n",
       "            console.log([gd, 'removed!']);\n",
       "            Plotly.purge(gd);\n",
       "            observer.disconnect();\n",
       "        }}\n",
       "}});\n",
       "\n",
       "// Listen for the removal of the full notebook cells\n",
       "var notebookContainer = gd.closest('#notebook-container');\n",
       "if (notebookContainer) {{\n",
       "    x.observe(notebookContainer, {childList: true});\n",
       "}}\n",
       "\n",
       "// Listen for the clearing of the current output cell\n",
       "var outputEl = gd.closest('.output');\n",
       "if (outputEl) {{\n",
       "    x.observe(outputEl, {childList: true});\n",
       "}}\n",
       "\n",
       "                        })                };                });            </script>        </div>"
      ]
     },
     "metadata": {},
     "output_type": "display_data"
    }
   ],
   "source": [
    "px.bar(\n",
    "    q189, x='Q189', y='count', \n",
    "    color='TRANS_CIS', \n",
    "    barmode='group', \n",
    "    color_discrete_sequence=['#03d7fc', '#fca2bb'],\n",
    "    title='<b>Q189: How often, if ever, were you bullied before you were 18 years old?</b>'\n",
    ")"
   ]
  },
  {
   "cell_type": "code",
   "execution_count": 80,
   "id": "a97e7708",
   "metadata": {},
   "outputs": [
    {
     "data": {
      "text/html": [
       "<div>\n",
       "<style scoped>\n",
       "    .dataframe tbody tr th:only-of-type {\n",
       "        vertical-align: middle;\n",
       "    }\n",
       "\n",
       "    .dataframe tbody tr th {\n",
       "        vertical-align: top;\n",
       "    }\n",
       "\n",
       "    .dataframe thead th {\n",
       "        text-align: right;\n",
       "    }\n",
       "</style>\n",
       "<table border=\"1\" class=\"dataframe\">\n",
       "  <thead>\n",
       "    <tr style=\"text-align: right;\">\n",
       "      <th></th>\n",
       "      <th>TRANS_CIS</th>\n",
       "      <th>Q189</th>\n",
       "      <th>Q190_1</th>\n",
       "      <th>Q190_2</th>\n",
       "      <th>Q190_3</th>\n",
       "      <th>Q190_4</th>\n",
       "      <th>Q190_5</th>\n",
       "      <th>Q190_6</th>\n",
       "      <th>Q190_7</th>\n",
       "      <th>Q190_8</th>\n",
       "      <th>Q190_9</th>\n",
       "      <th>Q190_10</th>\n",
       "    </tr>\n",
       "  </thead>\n",
       "  <tbody>\n",
       "    <tr>\n",
       "      <th>0</th>\n",
       "      <td>1</td>\n",
       "      <td>3</td>\n",
       "      <td></td>\n",
       "      <td></td>\n",
       "      <td></td>\n",
       "      <td></td>\n",
       "      <td></td>\n",
       "      <td></td>\n",
       "      <td></td>\n",
       "      <td></td>\n",
       "      <td></td>\n",
       "      <td></td>\n",
       "    </tr>\n",
       "    <tr>\n",
       "      <th>1</th>\n",
       "      <td>1</td>\n",
       "      <td>2</td>\n",
       "      <td></td>\n",
       "      <td></td>\n",
       "      <td></td>\n",
       "      <td>4</td>\n",
       "      <td></td>\n",
       "      <td></td>\n",
       "      <td></td>\n",
       "      <td>8</td>\n",
       "      <td></td>\n",
       "      <td></td>\n",
       "    </tr>\n",
       "    <tr>\n",
       "      <th>2</th>\n",
       "      <td>1</td>\n",
       "      <td>1</td>\n",
       "      <td></td>\n",
       "      <td>2</td>\n",
       "      <td></td>\n",
       "      <td></td>\n",
       "      <td></td>\n",
       "      <td>6</td>\n",
       "      <td>7</td>\n",
       "      <td></td>\n",
       "      <td></td>\n",
       "      <td></td>\n",
       "    </tr>\n",
       "    <tr>\n",
       "      <th>3</th>\n",
       "      <td>1</td>\n",
       "      <td>2</td>\n",
       "      <td></td>\n",
       "      <td>2</td>\n",
       "      <td></td>\n",
       "      <td></td>\n",
       "      <td></td>\n",
       "      <td></td>\n",
       "      <td></td>\n",
       "      <td>8</td>\n",
       "      <td></td>\n",
       "      <td></td>\n",
       "    </tr>\n",
       "    <tr>\n",
       "      <th>5</th>\n",
       "      <td>1</td>\n",
       "      <td>3</td>\n",
       "      <td>1</td>\n",
       "      <td>2</td>\n",
       "      <td></td>\n",
       "      <td></td>\n",
       "      <td></td>\n",
       "      <td>6</td>\n",
       "      <td></td>\n",
       "      <td></td>\n",
       "      <td></td>\n",
       "      <td></td>\n",
       "    </tr>\n",
       "    <tr>\n",
       "      <th>...</th>\n",
       "      <td>...</td>\n",
       "      <td>...</td>\n",
       "      <td>...</td>\n",
       "      <td>...</td>\n",
       "      <td>...</td>\n",
       "      <td>...</td>\n",
       "      <td>...</td>\n",
       "      <td>...</td>\n",
       "      <td>...</td>\n",
       "      <td>...</td>\n",
       "      <td>...</td>\n",
       "      <td>...</td>\n",
       "    </tr>\n",
       "    <tr>\n",
       "      <th>1428</th>\n",
       "      <td>2</td>\n",
       "      <td>3</td>\n",
       "      <td></td>\n",
       "      <td></td>\n",
       "      <td></td>\n",
       "      <td></td>\n",
       "      <td></td>\n",
       "      <td></td>\n",
       "      <td></td>\n",
       "      <td></td>\n",
       "      <td></td>\n",
       "      <td></td>\n",
       "    </tr>\n",
       "    <tr>\n",
       "      <th>1432</th>\n",
       "      <td>2</td>\n",
       "      <td>2</td>\n",
       "      <td></td>\n",
       "      <td></td>\n",
       "      <td></td>\n",
       "      <td></td>\n",
       "      <td></td>\n",
       "      <td></td>\n",
       "      <td></td>\n",
       "      <td></td>\n",
       "      <td></td>\n",
       "      <td></td>\n",
       "    </tr>\n",
       "    <tr>\n",
       "      <th>1433</th>\n",
       "      <td>2</td>\n",
       "      <td>2</td>\n",
       "      <td></td>\n",
       "      <td></td>\n",
       "      <td></td>\n",
       "      <td>4</td>\n",
       "      <td></td>\n",
       "      <td></td>\n",
       "      <td></td>\n",
       "      <td>8</td>\n",
       "      <td></td>\n",
       "      <td></td>\n",
       "    </tr>\n",
       "    <tr>\n",
       "      <th>1434</th>\n",
       "      <td>2</td>\n",
       "      <td>2</td>\n",
       "      <td>1</td>\n",
       "      <td></td>\n",
       "      <td></td>\n",
       "      <td></td>\n",
       "      <td></td>\n",
       "      <td></td>\n",
       "      <td></td>\n",
       "      <td></td>\n",
       "      <td></td>\n",
       "      <td></td>\n",
       "    </tr>\n",
       "    <tr>\n",
       "      <th>1435</th>\n",
       "      <td>2</td>\n",
       "      <td>1</td>\n",
       "      <td></td>\n",
       "      <td></td>\n",
       "      <td></td>\n",
       "      <td></td>\n",
       "      <td></td>\n",
       "      <td>6</td>\n",
       "      <td></td>\n",
       "      <td></td>\n",
       "      <td></td>\n",
       "      <td></td>\n",
       "    </tr>\n",
       "  </tbody>\n",
       "</table>\n",
       "<p>1067 rows × 12 columns</p>\n",
       "</div>"
      ],
      "text/plain": [
       "      TRANS_CIS Q189 Q190_1 Q190_2 Q190_3 Q190_4 Q190_5 Q190_6 Q190_7 Q190_8  \\\n",
       "0             1    3                                                           \n",
       "1             1    2                           4                           8   \n",
       "2             1    1             2                           6      7          \n",
       "3             1    2             2                                         8   \n",
       "5             1    3      1      2                           6                 \n",
       "...         ...  ...    ...    ...    ...    ...    ...    ...    ...    ...   \n",
       "1428          2    3                                                           \n",
       "1432          2    2                                                           \n",
       "1433          2    2                           4                           8   \n",
       "1434          2    2      1                                                    \n",
       "1435          2    1                                         6                 \n",
       "\n",
       "     Q190_9 Q190_10  \n",
       "0                    \n",
       "1                    \n",
       "2                    \n",
       "3                    \n",
       "5                    \n",
       "...     ...     ...  \n",
       "1428                 \n",
       "1432                 \n",
       "1433                 \n",
       "1434                 \n",
       "1435                 \n",
       "\n",
       "[1067 rows x 12 columns]"
      ]
     },
     "execution_count": 80,
     "metadata": {},
     "output_type": "execute_result"
    }
   ],
   "source": [
    "some_bullying = bullying[bullying['Q189']!='4']\n",
    "some_bullying"
   ]
  },
  {
   "cell_type": "code",
   "execution_count": null,
   "id": "bfc7dcfc",
   "metadata": {},
   "outputs": [],
   "source": []
  },
  {
   "cell_type": "code",
   "execution_count": null,
   "id": "e76c446d",
   "metadata": {},
   "outputs": [],
   "source": []
  },
  {
   "cell_type": "code",
   "execution_count": null,
   "id": "b0a9aeae",
   "metadata": {},
   "outputs": [],
   "source": []
  },
  {
   "cell_type": "code",
   "execution_count": null,
   "id": "0d469042",
   "metadata": {},
   "outputs": [],
   "source": []
  },
  {
   "cell_type": "code",
   "execution_count": null,
   "id": "3d1b7862",
   "metadata": {},
   "outputs": [],
   "source": []
  },
  {
   "cell_type": "code",
   "execution_count": null,
   "id": "7ff6f5f8",
   "metadata": {},
   "outputs": [],
   "source": []
  },
  {
   "cell_type": "markdown",
   "id": "236ea2bc",
   "metadata": {},
   "source": [
    "#### Income\n",
    "- Two income variable: household income (variable hinc) and personal income (variable: pinc))\n",
    "- The responses from TransPop 1 (t1q198 and t1q200, respectively) and TransPop 2 (t2q204 and t2q206, respectively) were collapsed\n",
    "- The responses from Cisgender were constructed from q155 and q157, respectively. \n",
    " - 95 respondents did not indicate a household income on the survey."
   ]
  },
  {
   "cell_type": "code",
   "execution_count": 38,
   "id": "51bf9404",
   "metadata": {},
   "outputs": [],
   "source": [
    "reference = { 'TransPop 1': ['Under $720', '$720 to $5,999', '$6,000 to $11,999',\n",
    "                             '$12,000 to $23,999', '$24,000 to $35,999',\n",
    "                             '$36,000 to $47,999', '$48,000 to $59,999',\n",
    "                             '$60,000 to $89,999', '$90,000 to $119,999',\n",
    "                             '$120,000 to $179,999', '$180,000 to $239,999', '$240,000 and over'],\n",
    "             'TransPop 2': ['No income', '$1 to $4,999', '$5,000 to $9,999',\n",
    "                            '$10,000 to $14,999', '$15,000 to $19,999',\n",
    "                            '$20,000 to $24,999', '$25,000 to $29,999','$30,000 to $39,999',\n",
    "                            '$40,000 to $49,999', '$50,000 to $59,999', '$60,000 to $74,999',\n",
    "                            '$75,000 to $99,999', '$100,000 to $149,999', '$150,000 or more']}"
   ]
  },
  {
   "cell_type": "markdown",
   "id": "e6331589",
   "metadata": {},
   "source": [
    "Question: Are transgender people facing higher possibilities to encounter harassment and violence\n",
    "Columns:\n",
    "1. Everyday discrimination:(TransPop: q171a-q171i,Cisgender: q121a-q121i). The resulting variable was reverse-coded so that lower values represent less everyday discrimination and higher values represent more everyday discrimination. Scale value range from 1 to 4. \n",
    "  - **“everyday”** (calculated only from complete cases, in which no individual scale items were missing) and **“everyday_i”** (missing individual scale items were imputed, and a final scale score was calculated for each respondent).\n",
    "2. Community connectedness (TransPop only): q51-q55\n",
    "  - Lower scores represented lower community connectedness, while higher scores represented greater community connectedness. Scale values range from 1 to 5. \n",
    "  - “connectedness” (calculated only from complete cases, in which no individual scale items were missing) and “connectedness_i” (missing individual scale items were imputed, and a final scale score was calculated for each respondent). \n",
    "3. "
   ]
  },
  {
   "cell_type": "markdown",
   "id": "0520c7da",
   "metadata": {},
   "source": [
    "1. Healthcare Stereotype Threat (TransPop only): q77-q80\n",
    "  - “hcthreat” (calculated only from complete cases, in which no individual scale items were missing) and “hcthreat_i” (missing individual scale items were imputed, and a final scale score was calculated for each respondent). \n",
    "2."
   ]
  }
 ],
 "metadata": {
  "kernelspec": {
   "display_name": "Python 3 (ipykernel)",
   "language": "python",
   "name": "python3"
  },
  "language_info": {
   "codemirror_mode": {
    "name": "ipython",
    "version": 3
   },
   "file_extension": ".py",
   "mimetype": "text/x-python",
   "name": "python",
   "nbconvert_exporter": "python",
   "pygments_lexer": "ipython3",
   "version": "3.10.0"
  }
 },
 "nbformat": 4,
 "nbformat_minor": 5
}
