{
 "cells": [
  {
   "cell_type": "code",
   "execution_count": 1,
   "metadata": {},
   "outputs": [],
   "source": [
    "import pandas as pd\n",
    "import numpy as np\n",
    "import os\n",
    "\n",
    "import matplotlib.pyplot as plt"
   ]
  },
  {
   "cell_type": "markdown",
   "metadata": {},
   "source": [
    "This notebook focuses on exploration on ***Victimization and Discrimation*** that transgender group reported that they have faced. These questions are drawn from Q162-168 in 2016-2018 TransPop study."
   ]
  },
  {
   "cell_type": "code",
   "execution_count": 25,
   "metadata": {},
   "outputs": [
    {
     "data": {
      "text/html": [
       "<div>\n",
       "<style scoped>\n",
       "    .dataframe tbody tr th:only-of-type {\n",
       "        vertical-align: middle;\n",
       "    }\n",
       "\n",
       "    .dataframe tbody tr th {\n",
       "        vertical-align: top;\n",
       "    }\n",
       "\n",
       "    .dataframe thead th {\n",
       "        text-align: right;\n",
       "    }\n",
       "</style>\n",
       "<table border=\"1\" class=\"dataframe\">\n",
       "  <thead>\n",
       "    <tr style=\"text-align: right;\">\n",
       "      <th></th>\n",
       "      <th>Unnamed: 0</th>\n",
       "      <th>STUDYID</th>\n",
       "      <th>WEIGHT</th>\n",
       "      <th>SURVEYCOMPLETED</th>\n",
       "      <th>GRESPONDENT_DATE</th>\n",
       "      <th>GCENREG</th>\n",
       "      <th>AGE</th>\n",
       "      <th>RACE</th>\n",
       "      <th>RACE_RECODE</th>\n",
       "      <th>RACE_RECODE_CAT5</th>\n",
       "      <th>...</th>\n",
       "      <th>ACE_SEP</th>\n",
       "      <th>ACE_INC</th>\n",
       "      <th>ACE_EMO_I</th>\n",
       "      <th>ACE_PHY_I</th>\n",
       "      <th>ACE_SEX_I</th>\n",
       "      <th>ACE_IPV_I</th>\n",
       "      <th>ACE_SUB_I</th>\n",
       "      <th>ACE_MEN_I</th>\n",
       "      <th>ACE_SEP_I</th>\n",
       "      <th>ACE_INC_I</th>\n",
       "    </tr>\n",
       "  </thead>\n",
       "  <tbody>\n",
       "    <tr>\n",
       "      <th>0</th>\n",
       "      <td>0</td>\n",
       "      <td>151768927</td>\n",
       "      <td>0.986143</td>\n",
       "      <td>0</td>\n",
       "      <td>26-APR-2016</td>\n",
       "      <td>1</td>\n",
       "      <td>65</td>\n",
       "      <td>6</td>\n",
       "      <td>1</td>\n",
       "      <td>1</td>\n",
       "      <td>...</td>\n",
       "      <td>0</td>\n",
       "      <td>0</td>\n",
       "      <td>1</td>\n",
       "      <td>0</td>\n",
       "      <td>0</td>\n",
       "      <td>0</td>\n",
       "      <td>0</td>\n",
       "      <td>0</td>\n",
       "      <td>0</td>\n",
       "      <td>0</td>\n",
       "    </tr>\n",
       "    <tr>\n",
       "      <th>1</th>\n",
       "      <td>1</td>\n",
       "      <td>152357242</td>\n",
       "      <td>0.379683</td>\n",
       "      <td>0</td>\n",
       "      <td>07-APR-2016</td>\n",
       "      <td>3</td>\n",
       "      <td>38</td>\n",
       "      <td>6</td>\n",
       "      <td>1</td>\n",
       "      <td>1</td>\n",
       "      <td>...</td>\n",
       "      <td>0</td>\n",
       "      <td>0</td>\n",
       "      <td>0</td>\n",
       "      <td>0</td>\n",
       "      <td>0</td>\n",
       "      <td>0</td>\n",
       "      <td>0</td>\n",
       "      <td>1</td>\n",
       "      <td>0</td>\n",
       "      <td>0</td>\n",
       "    </tr>\n",
       "    <tr>\n",
       "      <th>2</th>\n",
       "      <td>2</td>\n",
       "      <td>152444055</td>\n",
       "      <td>0.705381</td>\n",
       "      <td>0</td>\n",
       "      <td>01-MAY-2016</td>\n",
       "      <td>3</td>\n",
       "      <td>25</td>\n",
       "      <td>6</td>\n",
       "      <td>1</td>\n",
       "      <td>1</td>\n",
       "      <td>...</td>\n",
       "      <td>0</td>\n",
       "      <td>0</td>\n",
       "      <td>0</td>\n",
       "      <td>0</td>\n",
       "      <td>0</td>\n",
       "      <td>0</td>\n",
       "      <td>0</td>\n",
       "      <td>1</td>\n",
       "      <td>0</td>\n",
       "      <td>0</td>\n",
       "    </tr>\n",
       "    <tr>\n",
       "      <th>3</th>\n",
       "      <td>3</td>\n",
       "      <td>152525272</td>\n",
       "      <td>1.595398</td>\n",
       "      <td>0</td>\n",
       "      <td>20-APR-2016</td>\n",
       "      <td>4</td>\n",
       "      <td>18</td>\n",
       "      <td>6</td>\n",
       "      <td>1</td>\n",
       "      <td>1</td>\n",
       "      <td>...</td>\n",
       "      <td>1</td>\n",
       "      <td>1</td>\n",
       "      <td>1</td>\n",
       "      <td>0</td>\n",
       "      <td>0</td>\n",
       "      <td>1</td>\n",
       "      <td>1</td>\n",
       "      <td>1</td>\n",
       "      <td>1</td>\n",
       "      <td>1</td>\n",
       "    </tr>\n",
       "    <tr>\n",
       "      <th>4</th>\n",
       "      <td>4</td>\n",
       "      <td>152894493</td>\n",
       "      <td>1.870422</td>\n",
       "      <td>0</td>\n",
       "      <td>05-MAY-2016</td>\n",
       "      <td>2</td>\n",
       "      <td>30</td>\n",
       "      <td>8</td>\n",
       "      <td>3</td>\n",
       "      <td>3</td>\n",
       "      <td>...</td>\n",
       "      <td>0</td>\n",
       "      <td>0</td>\n",
       "      <td>1</td>\n",
       "      <td>0</td>\n",
       "      <td>0</td>\n",
       "      <td>0</td>\n",
       "      <td>0</td>\n",
       "      <td>0</td>\n",
       "      <td>0</td>\n",
       "      <td>0</td>\n",
       "    </tr>\n",
       "  </tbody>\n",
       "</table>\n",
       "<p>5 rows × 567 columns</p>\n",
       "</div>"
      ],
      "text/plain": [
       "   Unnamed: 0    STUDYID    WEIGHT  SURVEYCOMPLETED GRESPONDENT_DATE GCENREG  \\\n",
       "0           0  151768927  0.986143                0      26-APR-2016       1   \n",
       "1           1  152357242  0.379683                0      07-APR-2016       3   \n",
       "2           2  152444055  0.705381                0      01-MAY-2016       3   \n",
       "3           3  152525272  1.595398                0      20-APR-2016       4   \n",
       "4           4  152894493  1.870422                0      05-MAY-2016       2   \n",
       "\n",
       "   AGE  RACE  RACE_RECODE  RACE_RECODE_CAT5  ... ACE_SEP ACE_INC  ACE_EMO_I  \\\n",
       "0   65     6            1                 1  ...       0       0          1   \n",
       "1   38     6            1                 1  ...       0       0          0   \n",
       "2   25     6            1                 1  ...       0       0          0   \n",
       "3   18     6            1                 1  ...       1       1          1   \n",
       "4   30     8            3                 3  ...       0       0          1   \n",
       "\n",
       "   ACE_PHY_I ACE_SEX_I  ACE_IPV_I ACE_SUB_I  ACE_MEN_I ACE_SEP_I ACE_INC_I  \n",
       "0          0         0          0         0          0         0         0  \n",
       "1          0         0          0         0          1         0         0  \n",
       "2          0         0          0         0          1         0         0  \n",
       "3          0         0          1         1          1         1         1  \n",
       "4          0         0          0         0          0         0         0  \n",
       "\n",
       "[5 rows x 567 columns]"
      ]
     },
     "execution_count": 25,
     "metadata": {},
     "output_type": "execute_result"
    }
   ],
   "source": [
    "transpop = pd.read_csv('data/transpop.csv')\n",
    "transpop.head()"
   ]
  },
  {
   "cell_type": "code",
   "execution_count": 9,
   "metadata": {},
   "outputs": [],
   "source": [
    "total_col = ['Q162A','Q162B','Q162C','Q162D','Q162E','Q162F','Q163_1','Q163_2','Q163_3','Q163_4','Q163_5',\n",
    "              'Q163_6','Q163_7','Q163_8','Q163_9','Q163_10','Q164','Q165','Q166_1','Q166_2','Q166_3','Q166_4','Q166_5',\n",
    "               'Q166_6','Q166_7','Q166_8','Q166_9','Q166_10','Q167','Q168_1','Q168_2','Q168_3','Q168_4','Q168_5','Q168_6',\n",
    "               'Q168_7','Q168_8','Q168_9','Q168_10'\n",
    "              ]"
   ]
  },
  {
   "cell_type": "markdown",
   "metadata": {},
   "source": [
    "Q162:<br>\n",
    "\n",
    "162_C: Since the age of 18, how often have any of the following happened to you? Someone tried to ***attack you, rob you, or damage your property, but they didn't succeed***<br>\n",
    "\n",
    "162_D: Since the age of 18, how often have any of the following happened to you? Someone ***threatened you with violence***<br>\n",
    "\n",
    "162_E: Since the age of 18, how often have any of the following happened to you? Someone ***verbally insulted or abused you***<br>\n",
    "\n",
    "162_F: Since the age of 18, how often have any of the following happened to you? Someone ***threw an object at you***<br>\n",
    "\n",
    "1- Never<br>\n",
    "2- Once<br>\n",
    "3- Twice<br>\n",
    "4- Three or more times<br>"
   ]
  },
  {
   "cell_type": "code",
   "execution_count": 26,
   "metadata": {},
   "outputs": [],
   "source": [
    "trans_162 = transpop[['Q162A','Q162B','Q162C','Q162D','Q162E','Q162F']]\n"
   ]
  },
  {
   "cell_type": "markdown",
   "metadata": {},
   "source": [
    "162_A: Since age of 18, how often have you of the following happened to you? You were ***hit, beaten, physically attacked, or sexually assulted***<br>\n",
    "1- Never<br>\n",
    "2- Once<br>\n",
    "3- Twice<br>\n",
    "4- Three or more times<br>"
   ]
  },
  {
   "cell_type": "code",
   "execution_count": 44,
   "metadata": {},
   "outputs": [
    {
     "data": {
      "text/plain": [
       "1.0    148\n",
       "4.0     56\n",
       "2.0     37\n",
       "3.0     30\n",
       "Name: Q162A, dtype: int64"
      ]
     },
     "execution_count": 44,
     "metadata": {},
     "output_type": "execute_result"
    }
   ],
   "source": [
    "physical = pd.to_numeric(trans_162['Q162A'], errors='coerce').astype('float').value_counts()\n",
    "physical"
   ]
  },
  {
   "cell_type": "code",
   "execution_count": 63,
   "metadata": {},
   "outputs": [],
   "source": [
    "label_names = {1:'Never',2:'Once',3:'Twice',4:'Three or more times'}"
   ]
  },
  {
   "cell_type": "code",
   "execution_count": 68,
   "metadata": {},
   "outputs": [
    {
     "data": {
      "image/png": "[encoded data removed]",
      "text/plain": [
       "<Figure size 432x288 with 1 Axes>"
      ]
     },
     "metadata": {
      "needs_background": "light"
     },
     "output_type": "display_data"
    }
   ],
   "source": [
    "plt.bar(physical.index, physical.values)\n",
    "plt.xlabel('Label')\n",
    "plt.ylabel('Count')\n",
    "plt.title('Physical Damaged')\n",
    "names = []\n",
    "for i in physical.index:\n",
    "    names.append(label_names[int(i)])\n",
    "    \n",
    "plt.xticks(physical.index, names)\n",
    "\n",
    "plt.show()"
   ]
  },
  {
   "cell_type": "code",
   "execution_count": 54,
   "metadata": {},
   "outputs": [
    {
     "data": {
      "text/plain": [
       "count    271.000000\n",
       "mean       1.977860\n",
       "std        1.219999\n",
       "min        1.000000\n",
       "25%        1.000000\n",
       "50%        1.000000\n",
       "75%        3.000000\n",
       "max        4.000000\n",
       "Name: Q162A, dtype: float64"
      ]
     },
     "execution_count": 54,
     "metadata": {},
     "output_type": "execute_result"
    }
   ],
   "source": [
    "stats = pd.to_numeric(trans_162['Q162A'], errors='coerce').astype('float').describe()\n",
    "stats"
   ]
  },
  {
   "cell_type": "markdown",
   "metadata": {},
   "source": [
    "162_B:Since age of 18, how often have you of the following happened to you? You were ***robbed, or your property was stolen, vandalized, or purposely damaged***<br>\n",
    "1- Never<br>\n",
    "2- Once<br>\n",
    "3- Twice<br>\n",
    "4- Three or more times<br>"
   ]
  },
  {
   "cell_type": "code",
   "execution_count": 55,
   "metadata": {},
   "outputs": [
    {
     "data": {
      "text/plain": [
       "1.0    144\n",
       "2.0     66\n",
       "4.0     39\n",
       "3.0     21\n",
       "Name: Q162B, dtype: int64"
      ]
     },
     "execution_count": 55,
     "metadata": {},
     "output_type": "execute_result"
    }
   ],
   "source": [
    "property_damage = pd.to_numeric(trans_162['Q162B'], errors='coerce').astype('float').value_counts()\n",
    "property_damage"
   ]
  },
  {
   "cell_type": "code",
   "execution_count": 70,
   "metadata": {},
   "outputs": [
    {
     "data": {
      "image/png": "[encoded data removed]",
      "text/plain": [
       "<Figure size 432x288 with 1 Axes>"
      ]
     },
     "metadata": {
      "needs_background": "light"
     },
     "output_type": "display_data"
    }
   ],
   "source": [
    "plt.bar(property_damage.index, property_damage.values)\n",
    "plt.xlabel('Label')\n",
    "plt.ylabel('Count')\n",
    "plt.title('Property Damaged')\n",
    "names = []\n",
    "for i in property_damage.index:\n",
    "    names.append(label_names[int(i)])\n",
    "plt.xticks(property_damage.index, names)\n",
    "plt.show()"
   ]
  },
  {
   "cell_type": "code",
   "execution_count": 71,
   "metadata": {},
   "outputs": [
    {
     "data": {
      "text/plain": [
       "1.0    191\n",
       "2.0     47\n",
       "4.0     21\n",
       "3.0     12\n",
       "Name: Q162C, dtype: int64"
      ]
     },
     "execution_count": 71,
     "metadata": {},
     "output_type": "execute_result"
    }
   ],
   "source": [
    "not_succeed = pd.to_numeric(trans_162['Q162C'], errors='coerce').astype('float').value_counts()\n",
    "not_succeed"
   ]
  },
  {
   "cell_type": "code",
   "execution_count": 72,
   "metadata": {},
   "outputs": [
    {
     "data": {
      "image/png": "[encoded data removed]",
      "text/plain": [
       "<Figure size 432x288 with 1 Axes>"
      ]
     },
     "metadata": {
      "needs_background": "light"
     },
     "output_type": "display_data"
    }
   ],
   "source": [
    "plt.bar(not_succeed.index, not_succeed.values)\n",
    "plt.xlabel('Label')\n",
    "plt.ylabel('Count')\n",
    "plt.title('Not Succeed')\n",
    "names = []\n",
    "for i in not_succeed.index:\n",
    "    names.append(label_names[int(i)])\n",
    "plt.xticks(not_succeed.index, names)\n",
    "plt.show()"
   ]
  },
  {
   "cell_type": "code",
   "execution_count": 73,
   "metadata": {},
   "outputs": [
    {
     "data": {
      "text/plain": [
       "1.0    112\n",
       "4.0     75\n",
       "2.0     48\n",
       "3.0     36\n",
       "Name: Q162D, dtype: int64"
      ]
     },
     "execution_count": 73,
     "metadata": {},
     "output_type": "execute_result"
    }
   ],
   "source": [
    "threaten = pd.to_numeric(trans_162['Q162D'], errors='coerce').astype('float').value_counts()\n",
    "threaten"
   ]
  },
  {
   "cell_type": "code",
   "execution_count": 74,
   "metadata": {},
   "outputs": [
    {
     "data": {
      "image/png": "[encoded data removed]",
      "text/plain": [
       "<Figure size 432x288 with 1 Axes>"
      ]
     },
     "metadata": {
      "needs_background": "light"
     },
     "output_type": "display_data"
    }
   ],
   "source": [
    "plt.bar(threaten.index, threaten.values)\n",
    "plt.xlabel('Label')\n",
    "plt.ylabel('Count')\n",
    "plt.title('Threaten')\n",
    "names = []\n",
    "for i in threaten.index:\n",
    "    names.append(label_names[int(i)])\n",
    "plt.xticks(threaten.index, names)\n",
    "plt.show()"
   ]
  },
  {
   "cell_type": "code",
   "execution_count": 75,
   "metadata": {},
   "outputs": [
    {
     "data": {
      "text/plain": [
       "4.0    160\n",
       "1.0     57\n",
       "3.0     29\n",
       "2.0     23\n",
       "Name: Q162E, dtype: int64"
      ]
     },
     "execution_count": 75,
     "metadata": {},
     "output_type": "execute_result"
    }
   ],
   "source": [
    "insult = pd.to_numeric(trans_162['Q162E'], errors='coerce').astype('float').value_counts()\n",
    "insult"
   ]
  },
  {
   "cell_type": "code",
   "execution_count": 76,
   "metadata": {},
   "outputs": [
    {
     "data": {
      "image/png": "[encoded data removed]",
      "text/plain": [
       "<Figure size 432x288 with 1 Axes>"
      ]
     },
     "metadata": {
      "needs_background": "light"
     },
     "output_type": "display_data"
    }
   ],
   "source": [
    "plt.bar(insult.index, insult.values)\n",
    "plt.xlabel('Label')\n",
    "plt.ylabel('Count')\n",
    "plt.title('Insult')\n",
    "names = []\n",
    "for i in insult.index:\n",
    "    names.append(label_names[int(i)])\n",
    "plt.xticks(insult.index, names)\n",
    "plt.show()"
   ]
  },
  {
   "cell_type": "code",
   "execution_count": 79,
   "metadata": {},
   "outputs": [
    {
     "data": {
      "text/plain": [
       "1.0    162\n",
       "4.0     60\n",
       "2.0     29\n",
       "3.0     20\n",
       "Name: Q162F, dtype: int64"
      ]
     },
     "execution_count": 79,
     "metadata": {},
     "output_type": "execute_result"
    }
   ],
   "source": [
    "thrown = pd.to_numeric(trans_162['Q162F'], errors='coerce').astype('float').value_counts()\n",
    "thrown"
   ]
  },
  {
   "cell_type": "code",
   "execution_count": 80,
   "metadata": {},
   "outputs": [
    {
     "data": {
      "image/png": "[encoded data removed]",
      "text/plain": [
       "<Figure size 432x288 with 1 Axes>"
      ]
     },
     "metadata": {
      "needs_background": "light"
     },
     "output_type": "display_data"
    }
   ],
   "source": [
    "plt.bar(thrown.index, thrown.values)\n",
    "plt.xlabel('Label')\n",
    "plt.ylabel('Count')\n",
    "plt.title('Thrown')\n",
    "names = []\n",
    "for i in thrown.index:\n",
    "    names.append(label_names[int(i)])\n",
    "plt.xticks(thrown.index, names)\n",
    "plt.show()"
   ]
  },
  {
   "cell_type": "code",
   "execution_count": null,
   "metadata": {},
   "outputs": [],
   "source": []
  }
 ],
 "metadata": {
  "kernelspec": {
   "display_name": "Python 3",
   "language": "python",
   "name": "python3"
  },
  "language_info": {
   "codemirror_mode": {
    "name": "ipython",
    "version": 3
   },
   "file_extension": ".py",
   "mimetype": "text/x-python",
   "name": "python",
   "nbconvert_exporter": "python",
   "pygments_lexer": "ipython3",
   "version": "3.8.5"
  }
 },
 "nbformat": 4,
 "nbformat_minor": 4
}
